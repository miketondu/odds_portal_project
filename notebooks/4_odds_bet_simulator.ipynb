{
 "cells": [
  {
   "cell_type": "markdown",
   "metadata": {},
   "source": [
    "# Bolivian Football League Betting Odds\n",
    "## 4. Bet Simulator\n",
    "\n",
    "This notebook utilizes the odds predicted by the betting model to come up with a profitable betting strategy based on the Kelly Criterion\n",
    "\n",
    "- https://insights.matchbook.com/the-kelly-criterion/"
   ]
  },
  {
   "cell_type": "code",
   "execution_count": 1,
   "metadata": {},
   "outputs": [],
   "source": [
    "# Importing necessary packages\n",
    "import pandas as pd\n",
    "import numpy as np\n",
    "import matplotlib.style as style\n",
    "import matplotlib.pyplot as plt\n",
    "import seaborn as sns\n",
    "import string\n",
    "import matplotlib.ticker as ticker\n",
    "import re\n",
    "import math\n",
    "\n",
    "from IPython.core.interactiveshell import InteractiveShell\n",
    "InteractiveShell.ast_node_interactivity = \"all\"\n",
    "%matplotlib inline\n",
    "pd.set_option('display.max_columns', None)\n",
    "pd.set_option('display.max_rows', None)\n",
    "\n",
    "\n",
    "# load dataset\n",
    "odds = pd.read_csv('/Users/miketondu/Dropbox/Data Science/Sharpest Minds/odds_data/bolivian_football_odds_prepared.csv',\n",
    "                  parse_dates= ['date'])\n",
    "\n",
    "# drop unwanted columns\n",
    "\n",
    "odds.drop([ 'cumulative_home_win', 'cumulative_away_win',\n",
    "            'cumulative_home_loss', 'cumulative_away_loss','cumulative_home_points',\n",
    "            'cumulative_away_points','cumulative_home_games_played',\n",
    "            'cumulative_away_games_played','cumulative_home_goals_allowed', 'cumulative_away_goals_allowed',\n",
    "            'cumulative_home_win_first_h',\n",
    "            'cumulative_away_win_first_h', 'cumulative_home_win_second_h',\n",
    "            'cumulative_away_win_second_h', 'cumulative_home_goals',\n",
    "            'cumulative_away_goals',]\n",
    "          ,axis=1,inplace=True)\n",
    "\n",
    "# unique matches\n",
    "odds_unique = odds.drop_duplicates('match_href')"
   ]
  },
  {
   "cell_type": "code",
   "execution_count": 2,
   "metadata": {},
   "outputs": [
    {
     "data": {
      "text/plain": [
       "Index(['match', 'match_href', 'bookmakers', 'home_odds', 'draw_odds',\n",
       "       'away_odds', 'payout', 'date', 'time', 'season_year', 'home_team',\n",
       "       'away_team', 'implied_home_odds', 'implied_draw_odds',\n",
       "       'implied_away_odds', 'final_result', 'home_goals', 'away_goals',\n",
       "       'first_half_home', 'first_half_away', 'second_half_home',\n",
       "       'second_half_away', 'home_goals_allowed', 'away_goals_allowed',\n",
       "       'total_goals', 'over', 'total_first_half', 'total_second_half',\n",
       "       'win_home_or_away', 'winner', 'home_win', 'away_win', 'home_loss',\n",
       "       'away_loss', 'home_win_first_h', 'away_win_first_h',\n",
       "       'home_win_second_h', 'away_win_second_h', 'home_points', 'away_points',\n",
       "       'home_games_played', 'away_games_played', 'upset', 'altitude',\n",
       "       'tropics', 'season_win_home_team', 'season_win_away_team',\n",
       "       'season_loss_home_team', 'season_loss_away_team',\n",
       "       'season_points_home_team', 'season_points_away_team',\n",
       "       'season_games_played_home_team', 'season_games_played_away_team',\n",
       "       'season_goals_home_team', 'season_goals_away_team',\n",
       "       'season_goals_allowed_home_team', 'season_goals_allowed_away_team',\n",
       "       'season_win_first_h_home_team', 'season_win_first_h_away_team',\n",
       "       'season_win_second_h_home_team', 'season_win_second_h_away_team'],\n",
       "      dtype='object')"
      ]
     },
     "execution_count": 2,
     "metadata": {},
     "output_type": "execute_result"
    }
   ],
   "source": [
    "odds_unique.columns"
   ]
  },
  {
   "cell_type": "code",
   "execution_count": 5,
   "metadata": {},
   "outputs": [],
   "source": [
    "def upset_wager(df, starting_bankroll, wagering_size):\n",
    "    upsets = 0\n",
    "    non_upsets = 0\n",
    "    bankroll = starting_bankroll\n",
    "    for game in df:\n",
    "        if df.home_odds[game] > df.away_odds[game]:\n",
    "            if df.home_goals[game] > df.away_goals[game]:\n",
    "                upsets +=1\n",
    "                bankroll += wagering_size * (df.home_odds -1)\n",
    "    \n",
    "    "
   ]
  },
  {
   "cell_type": "code",
   "execution_count": 15,
   "metadata": {},
   "outputs": [
    {
     "data": {
      "text/plain": [
       "1.7"
      ]
     },
     "execution_count": 15,
     "metadata": {},
     "output_type": "execute_result"
    }
   ],
   "source": [
    "odds.home_odds[6]"
   ]
  },
  {
   "cell_type": "markdown",
   "metadata": {},
   "source": [
    "#### What're we trying to achieve:\n",
    "- Function that compares odds predicted by model against the casino odds and uses Kelly Criterion formula in order to set a betting stake\n",
    "- This stake is then used in the gambling simulator function in order to simulate a season of betting"
   ]
  },
  {
   "cell_type": "code",
   "execution_count": 33,
   "metadata": {},
   "outputs": [
    {
     "name": "stdout",
     "output_type": "stream",
     "text": [
      "Percentage of bankroll to bet: 10.0 %\n"
     ]
    }
   ],
   "source": [
    "def kelly(odds,p):\n",
    "    ''' Kelly criterion formula outputs the fraction of your bankroll to bet depending on the odds predicted\n",
    "    f = fraction of the bankroll to bet\n",
    "    b = decimal odds -1\n",
    "    p = implied probability of our model\n",
    "    q = probability of losing (1-p)\n",
    "     '''\n",
    "    b = odds - 1\n",
    "    f = (b*p-(1-p))/b\n",
    "    \n",
    "    return print('Percentage of bankroll to bet:', round(f*100,2), '%')\n",
    "    \n",
    "kelly(1.80,.6)\n",
    "    \n",
    "    "
   ]
  },
  {
   "cell_type": "code",
   "execution_count": 36,
   "metadata": {},
   "outputs": [],
   "source": [
    "def bet_simulator(dataframe, starting_bankroll, wagering_size):\n",
    "    upsets = 0\n",
    "    non_upsets = 0\n",
    "\n",
    "    bankroll = starting_bankroll\n",
    "\n",
    "    for game in dataframe:\n",
    "        home_team = game['home_team']\n",
    "        away_team = game['away_team']\n",
    "\n",
    "        home_goals = game['home_goals']\n",
    "        away_goals = game['away_goals']\n",
    "\n",
    "        home_odds = game['home_odds']\n",
    "        draw_odds = game['draw_odds']\n",
    "        away_odds = game['away_odds']\n",
    "\n",
    "        if home_odds > away_odds:\n",
    "            if home_goals > away_goals:\n",
    "                upsets += 1\n",
    "                bankroll += wagering_size * (home_odds - 1)\n",
    "            else:\n",
    "                non_upsets += 1\n",
    "                bankroll -= wagering_size\n",
    "\n",
    "    ROI = ((bankroll - starting_bankroll) / (wagering_size * (upsets + non_upsets))) * 100\n",
    "\n",
    "    print (\"There were '%s' upsets out of '%s' total matches\" % (upsets, upsets + non_upsets))\n",
    "    print (\"Starting bankroll = '%s'\" % (starting_bankroll))\n",
    "    print (\"Finishing bankroll = '%s' | ROI = '%s'\" % (bankroll, ROI))"
   ]
  },
  {
   "cell_type": "code",
   "execution_count": 37,
   "metadata": {},
   "outputs": [
    {
     "ename": "TypeError",
     "evalue": "string indices must be integers",
     "output_type": "error",
     "traceback": [
      "\u001b[0;31m---------------------------------------------------------------------------\u001b[0m",
      "\u001b[0;31mTypeError\u001b[0m                                 Traceback (most recent call last)",
      "\u001b[0;32m<ipython-input-37-96be4c27c90f>\u001b[0m in \u001b[0;36m<module>\u001b[0;34m()\u001b[0m\n\u001b[0;32m----> 1\u001b[0;31m \u001b[0mbet_simulator\u001b[0m\u001b[0;34m(\u001b[0m\u001b[0modds_unique\u001b[0m\u001b[0;34m,\u001b[0m \u001b[0;36m1000\u001b[0m\u001b[0;34m,\u001b[0m \u001b[0;36m5\u001b[0m\u001b[0;34m)\u001b[0m\u001b[0;34m\u001b[0m\u001b[0m\n\u001b[0m",
      "\u001b[0;32m<ipython-input-36-0abe60d5a87a>\u001b[0m in \u001b[0;36mbet_simulator\u001b[0;34m(dataframe, starting_bankroll, wagering_size)\u001b[0m\n\u001b[1;32m      6\u001b[0m \u001b[0;34m\u001b[0m\u001b[0m\n\u001b[1;32m      7\u001b[0m     \u001b[0;32mfor\u001b[0m \u001b[0mgame\u001b[0m \u001b[0;32min\u001b[0m \u001b[0mdataframe\u001b[0m\u001b[0;34m:\u001b[0m\u001b[0;34m\u001b[0m\u001b[0m\n\u001b[0;32m----> 8\u001b[0;31m         \u001b[0mhome_team\u001b[0m \u001b[0;34m=\u001b[0m \u001b[0mgame\u001b[0m\u001b[0;34m[\u001b[0m\u001b[0;34m'home_team'\u001b[0m\u001b[0;34m]\u001b[0m\u001b[0;34m\u001b[0m\u001b[0m\n\u001b[0m\u001b[1;32m      9\u001b[0m         \u001b[0maway_team\u001b[0m \u001b[0;34m=\u001b[0m \u001b[0mgame\u001b[0m\u001b[0;34m[\u001b[0m\u001b[0;34m'away_team'\u001b[0m\u001b[0;34m]\u001b[0m\u001b[0;34m\u001b[0m\u001b[0m\n\u001b[1;32m     10\u001b[0m \u001b[0;34m\u001b[0m\u001b[0m\n",
      "\u001b[0;31mTypeError\u001b[0m: string indices must be integers"
     ]
    }
   ],
   "source": [
    "bet_simulator(odds_unique, 1000, 5)"
   ]
  },
  {
   "cell_type": "code",
   "execution_count": null,
   "metadata": {},
   "outputs": [],
   "source": []
  }
 ],
 "metadata": {
  "kernelspec": {
   "display_name": "Python 3",
   "language": "python",
   "name": "python3"
  },
  "language_info": {
   "codemirror_mode": {
    "name": "ipython",
    "version": 3
   },
   "file_extension": ".py",
   "mimetype": "text/x-python",
   "name": "python",
   "nbconvert_exporter": "python",
   "pygments_lexer": "ipython3",
   "version": "3.6.5"
  }
 },
 "nbformat": 4,
 "nbformat_minor": 2
}
