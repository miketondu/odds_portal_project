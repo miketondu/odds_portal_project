{
 "cells": [
  {
   "cell_type": "markdown",
   "metadata": {},
   "source": [
    "# Bolivian League Betting Odds\n",
    "## 1. Data Cleaning & Feature Engineering"
   ]
  },
  {
   "cell_type": "code",
   "execution_count": 5,
   "metadata": {},
   "outputs": [],
   "source": [
    "# Importing necessary packages\n",
    "import pandas as pd\n",
    "import numpy as np\n",
    "import matplotlib.style as style\n",
    "import matplotlib.pyplot as plt\n",
    "import seaborn as sns\n",
    "import string\n",
    "import matplotlib.ticker as ticker\n",
    "import re\n",
    "from collections import Counter\n",
    "style.use('fivethirtyeight')\n",
    "\n",
    "\n",
    "\n",
    "from IPython.core.interactiveshell import InteractiveShell\n",
    "InteractiveShell.ast_node_interactivity = \"all\"\n",
    "%matplotlib inline\n",
    "pd.set_option('display.max_columns', None)\n",
    "pd.set_option('display.max_rows', None)\n"
   ]
  },
  {
   "cell_type": "code",
   "execution_count": 12,
   "metadata": {},
   "outputs": [],
   "source": [
    "# Reading and appending datasets\n",
    "odds_16_08 = pd.read_csv('odds_data/raw/odds_portal_2016_2008.csv', parse_dates= ['date'] )\n",
    "odds_17 = pd.read_csv('odds_data/raw/odds_portal_2017.csv', parse_dates= ['date'])\n",
    "odds_18 = pd.read_csv('odds_data/raw/odds_portal_2018.csv', parse_dates= ['date'])\n",
    "odds_19 = pd.read_csv('odds_data/raw/odds_portal_2019.csv', parse_dates= ['date'])\n",
    "\n",
    "odds = odds_16_08.append([odds_17, odds_18, odds_19])\n",
    "\n"
   ]
  },
  {
   "cell_type": "code",
   "execution_count": 13,
   "metadata": {},
   "outputs": [
    {
     "name": "stdout",
     "output_type": "stream",
     "text": [
      "<class 'pandas.core.frame.DataFrame'>\n",
      "Int64Index: 24758 entries, 0 to 3739\n",
      "Data columns (total 12 columns):\n",
      "web-scraper-order        24758 non-null object\n",
      "web-scraper-start-url    24758 non-null object\n",
      "match                    24758 non-null object\n",
      "match-href               24758 non-null object\n",
      "Bookmakers               21802 non-null object\n",
      "Home Odds                21802 non-null float64\n",
      "Draw Odds                21802 non-null float64\n",
      "Away Odds                21802 non-null float64\n",
      "Payout                   21802 non-null object\n",
      "results                  24758 non-null object\n",
      "date                     24758 non-null datetime64[ns]\n",
      "time                     24758 non-null object\n",
      "dtypes: datetime64[ns](1), float64(3), object(8)\n",
      "memory usage: 2.5+ MB\n"
     ]
    }
   ],
   "source": [
    "odds.info()"
   ]
  },
  {
   "cell_type": "markdown",
   "metadata": {},
   "source": [
    "### Cleaning the dataframe\n"
   ]
  },
  {
   "cell_type": "code",
   "execution_count": 14,
   "metadata": {
    "scrolled": true
   },
   "outputs": [
    {
     "data": {
      "text/plain": [
       "Index(['web_scraper_order', 'web_scraper_start_url', 'match', 'match_href',\n",
       "       'bookmakers', 'home_odds', 'draw_odds', 'away_odds', 'payout',\n",
       "       'results', 'date', 'time'],\n",
       "      dtype='object')"
      ]
     },
     "execution_count": 14,
     "metadata": {},
     "output_type": "execute_result"
    },
    {
     "name": "stderr",
     "output_type": "stream",
     "text": [
      "/Users/miketondu/anaconda3/lib/python3.6/site-packages/ipykernel_launcher.py:35: SettingWithCopyWarning: \n",
      "A value is trying to be set on a copy of a slice from a DataFrame\n",
      "\n",
      "See the caveats in the documentation: http://pandas.pydata.org/pandas-docs/stable/indexing.html#indexing-view-versus-copy\n",
      "/Users/miketondu/anaconda3/lib/python3.6/site-packages/ipykernel_launcher.py:36: SettingWithCopyWarning: \n",
      "A value is trying to be set on a copy of a slice from a DataFrame\n",
      "\n",
      "See the caveats in the documentation: http://pandas.pydata.org/pandas-docs/stable/indexing.html#indexing-view-versus-copy\n"
     ]
    }
   ],
   "source": [
    "# Making column names easier to work with\n",
    "odds.columns = [c.lower().replace(\"-\", \"_\") for c in [i.replace(\" \", \"-\") for i in odds.columns]]\n",
    "odds.columns\n",
    "\n",
    "# Payout column\n",
    "odds['payout'] = round(pd.to_numeric(odds.payout.str.replace('%',''), errors='coerce')/100,2)\n",
    "\n",
    "# Dropping NA's\n",
    "odds.dropna(subset=['bookmakers','payout'],axis=0, inplace=True)\n",
    "\n",
    "# CREATING NEW COLUMNS\n",
    "\n",
    "# Season Year\n",
    "odds['season_year'] = odds.date.dt.year\n",
    "# Teams\n",
    "odds['home_team'] = [i[0].strip() for i in odds.match.str.split(\"-\")]\n",
    "odds['away_team'] = [i[1].strip() for i in odds.match.str.split(\"-\")]\n",
    "\n",
    "# Final Results\n",
    "odds['final_result'] = [c[0:3] for c in [i.replace('Final result ', '') for i in odds.results]]\n",
    "odds['home_goals'] = [i[0] for i in odds.final_result.str.split(':')]\n",
    "odds['away_goals'] = [i[-1] for i in odds.final_result.str.split(':')]\n",
    "\n",
    "# Half times results\n",
    "odds['halftime'] = odds.results.str.extract(r\"\\((.*?)\\)\", expand=False).str.split(',')\n",
    "\n",
    "odds.dropna(subset=['halftime'],inplace=True) # dropping rows that don't have half time info\n",
    "\n",
    "odds['first_half_home'] = [c[0] for c in [i[0] for i in odds.halftime]]\n",
    "odds['first_half_away'] = [c[2] for c in [i[0] for i in odds.halftime]]\n",
    "odds['second_half_home'] = [c[0] for c in [i[1].strip() for i in odds.halftime]]\n",
    "odds['second_half_away'] = [c[2] for c in [i[1].strip() for i in odds.halftime]]\n",
    "\n",
    "# Fixing unique cases in score\n",
    "odds.home_goals[odds.home_goals=='Wil'] = 7\n",
    "odds.away_goals[odds.away_goals=='Wil'] = 0\n",
    "\n",
    "\n",
    "# Dropping columns\n",
    "odds.drop(['halftime','web_scraper_start_url',\n",
    "           'results', 'web_scraper_order'], axis=1, inplace=True)\n"
   ]
  },
  {
   "cell_type": "markdown",
   "metadata": {},
   "source": [
    "### Basic Feature Creation\n",
    "Create simple features based on the goals scored throughout each individual match"
   ]
  },
  {
   "cell_type": "code",
   "execution_count": null,
   "metadata": {
    "scrolled": true
   },
   "outputs": [],
   "source": [
    "# Creating new features\n",
    "# Transforming values into numeric type\n",
    "for col in odds.columns[odds.columns!='date']:\n",
    "    odds[col] = pd.to_numeric(odds[col], errors='ignore')\n",
    "\n",
    "# Total number of goals\n",
    "odds['total_goals'] = odds.home_goals + odds.away_goals\n",
    "\n",
    "# First half goals\n",
    "odds['total_first_half'] = odds.first_half_home + odds.first_half_away\n",
    "\n",
    "# Second half goals\n",
    "odds['total_second_half'] = odds.second_half_home + odds.second_half_away\n",
    "\n",
    "# Penalties\n",
    "#odds.results[odds.results.str.contains('penalties')]\n",
    "\n",
    "# win_home_or_away (1 for home win, 2 for away win, 0 for draw)\n",
    "def win_column(dataframe):\n",
    "    if dataframe['home_goals'] > dataframe['away_goals']:\n",
    "        return 1\n",
    "    if dataframe['home_goals'] < dataframe['away_goals']:\n",
    "        return 2\n",
    "    else:\n",
    "        return 0    \n",
    "odds['win_home_or_away'] = odds.apply(lambda x: win_column(x) , axis=1)\n",
    "\n",
    "# winning team\n",
    "odds['winner'] = ''\n",
    "for i in range(len(odds)):\n",
    "    if odds['win_home_or_away'].values[i] ==1:\n",
    "        odds['winner'].values[i] = odds['home_team'].values[i]\n",
    "    elif odds['win_home_or_away'].values[i] ==2:\n",
    "        odds['winner'].values[i] = odds['away_team'].values[i]\n",
    "    else:\n",
    "        odds['winner'].values[i] = 'Draw'\n",
    "        \n",
    "        \n",
    "# Creating 4 columns for home win/loss, and away win/loss\n",
    "odds['home_win']=0\n",
    "odds['away_win']=0\n",
    "odds['home_loss']=0\n",
    "odds['away_loss']=0\n",
    "for i in range(len(odds)):\n",
    "    if (odds['win_home_or_away'].values[i] == 1):\n",
    "        odds['home_win'].values[i]=1\n",
    "        odds['away_loss'].values[i]=1\n",
    "    if(odds['win_home_or_away'].values[i] == 2):\n",
    "        odds['away_win'].values[i]=1\n",
    "        odds['home_loss'].values[i]=1\n",
    "\n",
    "\n",
    "# Implied odds ------> Could use this value to compare against model output\n",
    "odds['implied_home_odds'] = round(1/odds.home_odds,3)\n",
    "odds['implied_draw_odds'] = round(1/odds.draw_odds,3)\n",
    "odds['implied_away_odds'] = round(1/odds.away_odds,3)\n",
    "\n",
    "# Create 'upsets' variable ---> 0 for no upset, 1 for upset\n",
    "# Upset defined as home team losing against away team with lower odds of winning\n",
    "\n",
    "def upset_column(dataframe):\n",
    "    if (dataframe['implied_home_odds']\n",
    "        > dataframe['implied_away_odds']) & (dataframe['home_goals'] <\n",
    "                                             dataframe['away_goals']):\n",
    "        return 1\n",
    "    else:\n",
    "        return 0 \n",
    "odds['upset'] = odds.apply(lambda x: upset_column(x),axis=1) \n",
    "\n",
    "\n",
    "        \n",
    "\n",
    "# saving df to .csv for future notebooks\n",
    "odds.to_csv('/Users/miketondu/Dropbox/Data Science/Sharpest Minds/odds_data/bolivian_football_odds_clean.csv', index=False)\n"
   ]
  },
  {
   "cell_type": "code",
   "execution_count": null,
   "metadata": {},
   "outputs": [],
   "source": [
    "odds.date.max()"
   ]
  },
  {
   "cell_type": "markdown",
   "metadata": {},
   "source": [
    "### Data Cleaning Handicap Data"
   ]
  },
  {
   "cell_type": "code",
   "execution_count": 12,
   "metadata": {},
   "outputs": [
    {
     "ename": "FileNotFoundError",
     "evalue": "File b'/Users/miketondu/Downloads/odds_handicap (2).csv' does not exist",
     "output_type": "error",
     "traceback": [
      "\u001b[0;31m---------------------------------------------------------------------------\u001b[0m",
      "\u001b[0;31mFileNotFoundError\u001b[0m                         Traceback (most recent call last)",
      "\u001b[0;32m<ipython-input-12-4d19f55bc54d>\u001b[0m in \u001b[0;36m<module>\u001b[0;34m()\u001b[0m\n\u001b[1;32m      1\u001b[0m \u001b[0;31m# Loading Handicap data\u001b[0m\u001b[0;34m\u001b[0m\u001b[0;34m\u001b[0m\u001b[0m\n\u001b[0;32m----> 2\u001b[0;31m \u001b[0mhdc\u001b[0m \u001b[0;34m=\u001b[0m \u001b[0mpd\u001b[0m\u001b[0;34m.\u001b[0m\u001b[0mread_csv\u001b[0m\u001b[0;34m(\u001b[0m\u001b[0;34m'/Users/miketondu/Downloads/odds_handicap (2).csv'\u001b[0m\u001b[0;34m)\u001b[0m\u001b[0;34m\u001b[0m\u001b[0m\n\u001b[0m\u001b[1;32m      3\u001b[0m \u001b[0;34m\u001b[0m\u001b[0m\n\u001b[1;32m      4\u001b[0m \u001b[0mhdc\u001b[0m\u001b[0;34m.\u001b[0m\u001b[0mhead\u001b[0m\u001b[0;34m(\u001b[0m\u001b[0;34m)\u001b[0m\u001b[0;34m\u001b[0m\u001b[0m\n",
      "\u001b[0;32m~/anaconda3/lib/python3.6/site-packages/pandas/io/parsers.py\u001b[0m in \u001b[0;36mparser_f\u001b[0;34m(filepath_or_buffer, sep, delimiter, header, names, index_col, usecols, squeeze, prefix, mangle_dupe_cols, dtype, engine, converters, true_values, false_values, skipinitialspace, skiprows, nrows, na_values, keep_default_na, na_filter, verbose, skip_blank_lines, parse_dates, infer_datetime_format, keep_date_col, date_parser, dayfirst, iterator, chunksize, compression, thousands, decimal, lineterminator, quotechar, quoting, escapechar, comment, encoding, dialect, tupleize_cols, error_bad_lines, warn_bad_lines, skipfooter, doublequote, delim_whitespace, low_memory, memory_map, float_precision)\u001b[0m\n\u001b[1;32m    676\u001b[0m                     skip_blank_lines=skip_blank_lines)\n\u001b[1;32m    677\u001b[0m \u001b[0;34m\u001b[0m\u001b[0m\n\u001b[0;32m--> 678\u001b[0;31m         \u001b[0;32mreturn\u001b[0m \u001b[0m_read\u001b[0m\u001b[0;34m(\u001b[0m\u001b[0mfilepath_or_buffer\u001b[0m\u001b[0;34m,\u001b[0m \u001b[0mkwds\u001b[0m\u001b[0;34m)\u001b[0m\u001b[0;34m\u001b[0m\u001b[0m\n\u001b[0m\u001b[1;32m    679\u001b[0m \u001b[0;34m\u001b[0m\u001b[0m\n\u001b[1;32m    680\u001b[0m     \u001b[0mparser_f\u001b[0m\u001b[0;34m.\u001b[0m\u001b[0m__name__\u001b[0m \u001b[0;34m=\u001b[0m \u001b[0mname\u001b[0m\u001b[0;34m\u001b[0m\u001b[0m\n",
      "\u001b[0;32m~/anaconda3/lib/python3.6/site-packages/pandas/io/parsers.py\u001b[0m in \u001b[0;36m_read\u001b[0;34m(filepath_or_buffer, kwds)\u001b[0m\n\u001b[1;32m    438\u001b[0m \u001b[0;34m\u001b[0m\u001b[0m\n\u001b[1;32m    439\u001b[0m     \u001b[0;31m# Create the parser.\u001b[0m\u001b[0;34m\u001b[0m\u001b[0;34m\u001b[0m\u001b[0m\n\u001b[0;32m--> 440\u001b[0;31m     \u001b[0mparser\u001b[0m \u001b[0;34m=\u001b[0m \u001b[0mTextFileReader\u001b[0m\u001b[0;34m(\u001b[0m\u001b[0mfilepath_or_buffer\u001b[0m\u001b[0;34m,\u001b[0m \u001b[0;34m**\u001b[0m\u001b[0mkwds\u001b[0m\u001b[0;34m)\u001b[0m\u001b[0;34m\u001b[0m\u001b[0m\n\u001b[0m\u001b[1;32m    441\u001b[0m \u001b[0;34m\u001b[0m\u001b[0m\n\u001b[1;32m    442\u001b[0m     \u001b[0;32mif\u001b[0m \u001b[0mchunksize\u001b[0m \u001b[0;32mor\u001b[0m \u001b[0miterator\u001b[0m\u001b[0;34m:\u001b[0m\u001b[0;34m\u001b[0m\u001b[0m\n",
      "\u001b[0;32m~/anaconda3/lib/python3.6/site-packages/pandas/io/parsers.py\u001b[0m in \u001b[0;36m__init__\u001b[0;34m(self, f, engine, **kwds)\u001b[0m\n\u001b[1;32m    785\u001b[0m             \u001b[0mself\u001b[0m\u001b[0;34m.\u001b[0m\u001b[0moptions\u001b[0m\u001b[0;34m[\u001b[0m\u001b[0;34m'has_index_names'\u001b[0m\u001b[0;34m]\u001b[0m \u001b[0;34m=\u001b[0m \u001b[0mkwds\u001b[0m\u001b[0;34m[\u001b[0m\u001b[0;34m'has_index_names'\u001b[0m\u001b[0;34m]\u001b[0m\u001b[0;34m\u001b[0m\u001b[0m\n\u001b[1;32m    786\u001b[0m \u001b[0;34m\u001b[0m\u001b[0m\n\u001b[0;32m--> 787\u001b[0;31m         \u001b[0mself\u001b[0m\u001b[0;34m.\u001b[0m\u001b[0m_make_engine\u001b[0m\u001b[0;34m(\u001b[0m\u001b[0mself\u001b[0m\u001b[0;34m.\u001b[0m\u001b[0mengine\u001b[0m\u001b[0;34m)\u001b[0m\u001b[0;34m\u001b[0m\u001b[0m\n\u001b[0m\u001b[1;32m    788\u001b[0m \u001b[0;34m\u001b[0m\u001b[0m\n\u001b[1;32m    789\u001b[0m     \u001b[0;32mdef\u001b[0m \u001b[0mclose\u001b[0m\u001b[0;34m(\u001b[0m\u001b[0mself\u001b[0m\u001b[0;34m)\u001b[0m\u001b[0;34m:\u001b[0m\u001b[0;34m\u001b[0m\u001b[0m\n",
      "\u001b[0;32m~/anaconda3/lib/python3.6/site-packages/pandas/io/parsers.py\u001b[0m in \u001b[0;36m_make_engine\u001b[0;34m(self, engine)\u001b[0m\n\u001b[1;32m   1012\u001b[0m     \u001b[0;32mdef\u001b[0m \u001b[0m_make_engine\u001b[0m\u001b[0;34m(\u001b[0m\u001b[0mself\u001b[0m\u001b[0;34m,\u001b[0m \u001b[0mengine\u001b[0m\u001b[0;34m=\u001b[0m\u001b[0;34m'c'\u001b[0m\u001b[0;34m)\u001b[0m\u001b[0;34m:\u001b[0m\u001b[0;34m\u001b[0m\u001b[0m\n\u001b[1;32m   1013\u001b[0m         \u001b[0;32mif\u001b[0m \u001b[0mengine\u001b[0m \u001b[0;34m==\u001b[0m \u001b[0;34m'c'\u001b[0m\u001b[0;34m:\u001b[0m\u001b[0;34m\u001b[0m\u001b[0m\n\u001b[0;32m-> 1014\u001b[0;31m             \u001b[0mself\u001b[0m\u001b[0;34m.\u001b[0m\u001b[0m_engine\u001b[0m \u001b[0;34m=\u001b[0m \u001b[0mCParserWrapper\u001b[0m\u001b[0;34m(\u001b[0m\u001b[0mself\u001b[0m\u001b[0;34m.\u001b[0m\u001b[0mf\u001b[0m\u001b[0;34m,\u001b[0m \u001b[0;34m**\u001b[0m\u001b[0mself\u001b[0m\u001b[0;34m.\u001b[0m\u001b[0moptions\u001b[0m\u001b[0;34m)\u001b[0m\u001b[0;34m\u001b[0m\u001b[0m\n\u001b[0m\u001b[1;32m   1015\u001b[0m         \u001b[0;32melse\u001b[0m\u001b[0;34m:\u001b[0m\u001b[0;34m\u001b[0m\u001b[0m\n\u001b[1;32m   1016\u001b[0m             \u001b[0;32mif\u001b[0m \u001b[0mengine\u001b[0m \u001b[0;34m==\u001b[0m \u001b[0;34m'python'\u001b[0m\u001b[0;34m:\u001b[0m\u001b[0;34m\u001b[0m\u001b[0m\n",
      "\u001b[0;32m~/anaconda3/lib/python3.6/site-packages/pandas/io/parsers.py\u001b[0m in \u001b[0;36m__init__\u001b[0;34m(self, src, **kwds)\u001b[0m\n\u001b[1;32m   1706\u001b[0m         \u001b[0mkwds\u001b[0m\u001b[0;34m[\u001b[0m\u001b[0;34m'usecols'\u001b[0m\u001b[0;34m]\u001b[0m \u001b[0;34m=\u001b[0m \u001b[0mself\u001b[0m\u001b[0;34m.\u001b[0m\u001b[0musecols\u001b[0m\u001b[0;34m\u001b[0m\u001b[0m\n\u001b[1;32m   1707\u001b[0m \u001b[0;34m\u001b[0m\u001b[0m\n\u001b[0;32m-> 1708\u001b[0;31m         \u001b[0mself\u001b[0m\u001b[0;34m.\u001b[0m\u001b[0m_reader\u001b[0m \u001b[0;34m=\u001b[0m \u001b[0mparsers\u001b[0m\u001b[0;34m.\u001b[0m\u001b[0mTextReader\u001b[0m\u001b[0;34m(\u001b[0m\u001b[0msrc\u001b[0m\u001b[0;34m,\u001b[0m \u001b[0;34m**\u001b[0m\u001b[0mkwds\u001b[0m\u001b[0;34m)\u001b[0m\u001b[0;34m\u001b[0m\u001b[0m\n\u001b[0m\u001b[1;32m   1709\u001b[0m \u001b[0;34m\u001b[0m\u001b[0m\n\u001b[1;32m   1710\u001b[0m         \u001b[0mpassed_names\u001b[0m \u001b[0;34m=\u001b[0m \u001b[0mself\u001b[0m\u001b[0;34m.\u001b[0m\u001b[0mnames\u001b[0m \u001b[0;32mis\u001b[0m \u001b[0;32mNone\u001b[0m\u001b[0;34m\u001b[0m\u001b[0m\n",
      "\u001b[0;32mpandas/_libs/parsers.pyx\u001b[0m in \u001b[0;36mpandas._libs.parsers.TextReader.__cinit__\u001b[0;34m()\u001b[0m\n",
      "\u001b[0;32mpandas/_libs/parsers.pyx\u001b[0m in \u001b[0;36mpandas._libs.parsers.TextReader._setup_parser_source\u001b[0;34m()\u001b[0m\n",
      "\u001b[0;31mFileNotFoundError\u001b[0m: File b'/Users/miketondu/Downloads/odds_handicap (2).csv' does not exist"
     ]
    }
   ],
   "source": [
    "# Loading Handicap data\n",
    "hdc = pd.read_csv('/Users/miketondu/Downloads/odds_handicap (2).csv')\n",
    "\n",
    "hdc.head()"
   ]
  },
  {
   "cell_type": "code",
   "execution_count": 13,
   "metadata": {},
   "outputs": [
    {
     "ename": "NameError",
     "evalue": "name 'hdc' is not defined",
     "output_type": "error",
     "traceback": [
      "\u001b[0;31m---------------------------------------------------------------------------\u001b[0m",
      "\u001b[0;31mNameError\u001b[0m                                 Traceback (most recent call last)",
      "\u001b[0;32m<ipython-input-13-9d4f6a9462e9>\u001b[0m in \u001b[0;36m<module>\u001b[0;34m()\u001b[0m\n\u001b[0;32m----> 1\u001b[0;31m \u001b[0mlen\u001b[0m\u001b[0;34m(\u001b[0m\u001b[0mhdc\u001b[0m\u001b[0;34m)\u001b[0m\u001b[0;34m\u001b[0m\u001b[0m\n\u001b[0m",
      "\u001b[0;31mNameError\u001b[0m: name 'hdc' is not defined"
     ]
    }
   ],
   "source": [
    "len(hdc)"
   ]
  },
  {
   "cell_type": "code",
   "execution_count": null,
   "metadata": {},
   "outputs": [],
   "source": []
  },
  {
   "cell_type": "code",
   "execution_count": null,
   "metadata": {},
   "outputs": [],
   "source": []
  }
 ],
 "metadata": {
  "kernelspec": {
   "display_name": "Python 3",
   "language": "python",
   "name": "python3"
  },
  "language_info": {
   "codemirror_mode": {
    "name": "ipython",
    "version": 3
   },
   "file_extension": ".py",
   "mimetype": "text/x-python",
   "name": "python",
   "nbconvert_exporter": "python",
   "pygments_lexer": "ipython3",
   "version": "3.6.5"
  }
 },
 "nbformat": 4,
 "nbformat_minor": 2
}
