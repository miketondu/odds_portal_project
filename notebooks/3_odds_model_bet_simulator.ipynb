{
 "cells": [
  {
   "cell_type": "markdown",
   "metadata": {},
   "source": [
    "# Bolivian Football League Betting Odds\n",
    "## 3. Model Creation\n",
    "\n",
    "The purpose of this notebook is to create a base model to benchmark other algorithms against, and then modelling the resulting data from the previous feature engineering notebook (notebook # 2) using different machine learning supervised learning classifiers.\n",
    "\n",
    "The resulting predictions are then used in a piece of code which simulates bets placed using our newly developed model on historical matches to check the outcome of a hypothetical initial investment."
   ]
  },
  {
   "cell_type": "code",
   "execution_count": 43,
   "metadata": {},
   "outputs": [
    {
     "data": {
      "text/plain": [
       "(21202, 32)"
      ]
     },
     "execution_count": 43,
     "metadata": {},
     "output_type": "execute_result"
    }
   ],
   "source": [
    "# Importing necessary packages\n",
    "import pandas as pd\n",
    "import numpy as np\n",
    "import matplotlib.style as style\n",
    "import matplotlib.pyplot as plt\n",
    "import seaborn as sns\n",
    "import string\n",
    "import matplotlib.ticker as ticker\n",
    "import re\n",
    "import math\n",
    "import sklearn\n",
    "style.use('fivethirtyeight')\n",
    "\n",
    "# Importing SKLEARN packages\n",
    "from sklearn.model_selection import train_test_split\n",
    "from sklearn.model_selection import cross_val_score\n",
    "from sklearn.model_selection import StratifiedKFold\n",
    "from sklearn.ensemble import RandomForestRegressor\n",
    "from sklearn import model_selection\n",
    "from sklearn.linear_model import LogisticRegression\n",
    "from sklearn.tree import DecisionTreeClassifier\n",
    "from sklearn.neighbors import KNeighborsClassifier\n",
    "from sklearn.discriminant_analysis import LinearDiscriminantAnalysis\n",
    "from sklearn.naive_bayes import GaussianNB\n",
    "from sklearn.svm import SVC\n",
    "from xgboost import XGBClassifier\n",
    "from sklearn.metrics import accuracy_score\n",
    "\n",
    "from IPython.core.interactiveshell import InteractiveShell\n",
    "InteractiveShell.ast_node_interactivity = \"all\"\n",
    "%matplotlib inline\n",
    "pd.set_option('display.max_columns', None)\n",
    "pd.set_option('display.max_rows', None)\n",
    "\n",
    "# load dataset\n",
    "odds = pd.read_csv('/Users/miketondu/Dropbox/Data Science/Sharpest Minds/odds_data/bolivian_football_odds_prepared.csv',\n",
    "                  parse_dates= ['date'])\n",
    "\n",
    "\n",
    "# Choosing columns to train model with \n",
    "odds = odds.loc[:,[ 'match_href', \n",
    "                    #'bookmakers',\n",
    "                    'home_odds', 'draw_odds', 'away_odds',\n",
    "                    'payout', \n",
    "                    #'date', \n",
    "                    #'time', \n",
    "                    'season_year', \n",
    "                    'home_team', 'away_team',\n",
    "                    'home_goals', 'away_goals',\n",
    "                    'implied_home_odds', 'implied_draw_odds', 'implied_away_odds',\n",
    "                    #'win_home_or_away', \n",
    "                    'home_win', \n",
    "                    #'away_win',             \n",
    "                    #'over',                    \n",
    "                    'altitude','tropics',\n",
    "                    'season_win_home_team', 'season_win_away_team', \n",
    "                    'season_loss_home_team', 'season_loss_away_team', \n",
    "                    'season_points_home_team','season_points_away_team', \n",
    "                    'season_games_played_home_team','season_games_played_away_team',\n",
    "                    'season_goals_home_team','season_goals_away_team',\n",
    "                    'season_goals_allowed_home_team', 'season_goals_allowed_away_team',\n",
    "                    'season_win_first_h_home_team', 'season_win_first_h_away_team',\n",
    "                    'season_win_second_h_home_team', 'season_win_second_h_away_team']]\n",
    "\n",
    "odds.shape\n",
    "#odds.info()\n",
    "odds['season_year'] = odds.season_year.astype('category')\n",
    "\n",
    "# Creating Unique matches dataframe\n",
    "odds_unique = odds.drop_duplicates('match_href').drop('match_href', axis=1)"
   ]
  },
  {
   "cell_type": "markdown",
   "metadata": {},
   "source": [
    "### Base Model\n",
    "For the purpose of having a base model to compare all other iterations of our predictions against, we will create a one which will output a home team win 100% of the time."
   ]
  },
  {
   "cell_type": "code",
   "execution_count": 44,
   "metadata": {
    "scrolled": true
   },
   "outputs": [
    {
     "name": "stdout",
     "output_type": "stream",
     "text": [
      "Accuracy of base model predicting only home wins:  0.5637119113573407\n"
     ]
    }
   ],
   "source": [
    "# model_df\n",
    "model_df = odds_unique.copy()\n",
    "target_var = 'home_win'\n",
    "\n",
    "# Creating X and Y\n",
    "X = np.ones(len(odds_unique)).reshape(-1, 1)\n",
    "y = model_df[target_var]\n",
    "\n",
    "# Train/Test Split\n",
    "X_train, X_test, y_train, y_test = train_test_split(X, y, random_state=1)\n",
    "dt = DecisionTreeClassifier()\n",
    "dt.fit(X_train, y_train)\n",
    "\n",
    "# Score on test set\n",
    "print('Accuracy of base model predicting only home wins: ', dt.score(X_test, y_test));"
   ]
  },
  {
   "cell_type": "markdown",
   "metadata": {},
   "source": [
    "### Predictive Modelling\n",
    "This section runs different machine learning algorithms on the dataset using 3 different approaches:\n",
    "1. Train/test season split \n",
    "2. Sklearn's train/test split\n",
    "3. Cross Validation"
   ]
  },
  {
   "cell_type": "markdown",
   "metadata": {},
   "source": [
    "#### Train/Test 2019 Season Split"
   ]
  },
  {
   "cell_type": "code",
   "execution_count": 63,
   "metadata": {},
   "outputs": [
    {
     "data": {
      "text/plain": [
       "[(2532, 69), (355, 69), (2532, 1), (355, 1)]"
      ]
     },
     "execution_count": 63,
     "metadata": {},
     "output_type": "execute_result"
    }
   ],
   "source": [
    "# Training with 2008-2018 and testing with 2019\n",
    "model_df = odds_unique.copy().dropna()\n",
    "model_df.drop(['home_goals', 'away_goals'],axis=1,inplace=True)\n",
    "\n",
    "# Train\n",
    "X_train = model_df.loc[(model_df['season_year']!=2019),model_df.columns!=target_var]\n",
    "X_train.drop('season_year', axis=1,inplace=True)\n",
    "X_train = pd.get_dummies(X_train)\n",
    "y_train = model_df.loc[(model_df['season_year']!=2019),model_df.columns==target_var]\n",
    "\n",
    "# Test\n",
    "X_test = model_df.loc[(model_df['season_year']==2019),model_df.columns!=target_var]\n",
    "X_test.drop('season_year', axis=1,inplace=True)\n",
    "X_test = pd.get_dummies(X_test)\n",
    "X_test = X_test.reindex(columns=X_train.columns, fill_value=0)\n",
    "y_test = model_df.loc[(model_df['season_year']==2019),model_df.columns==target_var]\n",
    "\n",
    "[x.shape for x in [X_train, X_test, y_train, y_test]]"
   ]
  },
  {
   "cell_type": "code",
   "execution_count": 64,
   "metadata": {
    "scrolled": true
   },
   "outputs": [
    {
     "name": "stderr",
     "output_type": "stream",
     "text": [
      "/Users/miketondu/anaconda3/lib/python3.6/site-packages/sklearn/linear_model/logistic.py:432: FutureWarning: Default solver will be changed to 'lbfgs' in 0.22. Specify a solver to silence this warning.\n",
      "  FutureWarning)\n",
      "/Users/miketondu/anaconda3/lib/python3.6/site-packages/sklearn/utils/validation.py:724: DataConversionWarning: A column-vector y was passed when a 1d array was expected. Please change the shape of y to (n_samples, ), for example using ravel().\n",
      "  y = column_or_1d(y, warn=True)\n",
      "/Users/miketondu/anaconda3/lib/python3.6/site-packages/ipykernel_launcher.py:10: DataConversionWarning: A column-vector y was passed when a 1d array was expected. Please change the shape of y to (n_samples, ), for example using ravel().\n",
      "  # Remove the CWD from sys.path while we load stuff.\n",
      "/Users/miketondu/anaconda3/lib/python3.6/site-packages/sklearn/utils/validation.py:724: DataConversionWarning: A column-vector y was passed when a 1d array was expected. Please change the shape of y to (n_samples, ), for example using ravel().\n",
      "  y = column_or_1d(y, warn=True)\n",
      "/Users/miketondu/anaconda3/lib/python3.6/site-packages/sklearn/utils/validation.py:724: DataConversionWarning: A column-vector y was passed when a 1d array was expected. Please change the shape of y to (n_samples, ), for example using ravel().\n",
      "  y = column_or_1d(y, warn=True)\n",
      "/Users/miketondu/anaconda3/lib/python3.6/site-packages/sklearn/svm/base.py:193: FutureWarning: The default value of gamma will change from 'auto' to 'scale' in version 0.22 to account better for unscaled features. Set gamma explicitly to 'auto' or 'scale' to avoid this warning.\n",
      "  \"avoid this warning.\", FutureWarning)\n"
     ]
    },
    {
     "name": "stdout",
     "output_type": "stream",
     "text": [
      "LR : 0.6422535211267606\n",
      "KNN : 0.6169014084507042\n",
      "CART : 0.5943661971830986\n",
      "NB : 0.6253521126760564\n",
      "SVM : 0.6\n",
      "LDA : 0.6394366197183099\n"
     ]
    },
    {
     "name": "stderr",
     "output_type": "stream",
     "text": [
      "/Users/miketondu/anaconda3/lib/python3.6/site-packages/sklearn/utils/validation.py:724: DataConversionWarning: A column-vector y was passed when a 1d array was expected. Please change the shape of y to (n_samples, ), for example using ravel().\n",
      "  y = column_or_1d(y, warn=True)\n",
      "/Users/miketondu/anaconda3/lib/python3.6/site-packages/sklearn/discriminant_analysis.py:388: UserWarning: Variables are collinear.\n",
      "  warnings.warn(\"Variables are collinear.\")\n"
     ]
    },
    {
     "data": {
      "image/png": "[encoded data removed]",
      "text/plain": [
       "<Figure size 432x288 with 1 Axes>"
      ]
     },
     "metadata": {},
     "output_type": "display_data"
    }
   ],
   "source": [
    "# ML training with season split\n",
    "\n",
    "# Models\n",
    "models = []\n",
    "models.append(('LR', LogisticRegression()))\n",
    "models.append(('KNN', KNeighborsClassifier()))\n",
    "models.append(('CART', DecisionTreeClassifier()))\n",
    "models.append(('NB', GaussianNB()))\n",
    "models.append(('SVM', SVC(probability=True)))\n",
    "models.append(('LDA', LinearDiscriminantAnalysis()))\n",
    "\n",
    "results = []\n",
    "names = []\n",
    "y_preds = []\n",
    "\n",
    "for model in models:\n",
    "    # Choose model\n",
    "    clf = model[1]\n",
    "    # Train the model on training data\n",
    "    clf.fit(X_train, y_train)\n",
    "    # Prediction on test set\n",
    "    y_pred=clf.predict_proba(X_test)\n",
    "    # Print results\n",
    "    print(model[0],':', clf.score(X_test,y_test))\n",
    "    names.append(model[0])\n",
    "    results.append(clf.score(X_test,y_test))\n",
    "    \n",
    "    \n",
    "# barplot algorithm comparison\n",
    "fig = plt.figure()\n",
    "fig.suptitle('Algorithm Comparison')\n",
    "ax = fig.add_subplot(111)\n",
    "sns.barplot(x=names,y=results)\n",
    "ax.set_ylim((.3,.8))\n",
    "plt.show();\n",
    "\n"
   ]
  },
  {
   "cell_type": "markdown",
   "metadata": {},
   "source": [
    "#### Train/Test Random Split\n",
    "\n"
   ]
  },
  {
   "cell_type": "code",
   "execution_count": 65,
   "metadata": {},
   "outputs": [
    {
     "data": {
      "text/plain": [
       "[(2020, 82), (867, 82), (2020,), (867,)]"
      ]
     },
     "execution_count": 65,
     "metadata": {},
     "output_type": "execute_result"
    }
   ],
   "source": [
    "# Preparing dataframe to feed it into the model using sklearn's train/test random split\n",
    "#target_var = 'home_win'\n",
    "model_df = odds_unique.copy().dropna()\n",
    "model_df.drop(['home_goals', 'away_goals'],axis=1,inplace=True)\n",
    "# Features\n",
    "X = model_df.loc[:,model_df.columns!=target_var] \n",
    "X = pd.get_dummies(X)\n",
    "# Labels\n",
    "y = model_df.loc[:,target_var]\n",
    "\n",
    "# Split the data into training and testing sets\n",
    "X_train, X_test, y_train, y_test = train_test_split(X, y, test_size=.3, random_state=12)\n",
    "[x.shape for x in [X_train, X_test, y_train, y_test]]"
   ]
  },
  {
   "cell_type": "code",
   "execution_count": 66,
   "metadata": {},
   "outputs": [
    {
     "name": "stderr",
     "output_type": "stream",
     "text": [
      "/Users/miketondu/anaconda3/lib/python3.6/site-packages/sklearn/linear_model/logistic.py:432: FutureWarning: Default solver will be changed to 'lbfgs' in 0.22. Specify a solver to silence this warning.\n",
      "  FutureWarning)\n"
     ]
    },
    {
     "name": "stdout",
     "output_type": "stream",
     "text": [
      "LR : 0.6551326412918108\n",
      "KNN : 0.5651672433679354\n",
      "CART : 0.5455594002306805\n",
      "NB : 0.5594002306805075\n"
     ]
    },
    {
     "name": "stderr",
     "output_type": "stream",
     "text": [
      "/Users/miketondu/anaconda3/lib/python3.6/site-packages/sklearn/svm/base.py:193: FutureWarning: The default value of gamma will change from 'auto' to 'scale' in version 0.22 to account better for unscaled features. Set gamma explicitly to 'auto' or 'scale' to avoid this warning.\n",
      "  \"avoid this warning.\", FutureWarning)\n"
     ]
    },
    {
     "name": "stdout",
     "output_type": "stream",
     "text": [
      "SVM : 0.580161476355248\n",
      "LDA : 0.6539792387543253\n"
     ]
    },
    {
     "name": "stderr",
     "output_type": "stream",
     "text": [
      "/Users/miketondu/anaconda3/lib/python3.6/site-packages/sklearn/discriminant_analysis.py:388: UserWarning: Variables are collinear.\n",
      "  warnings.warn(\"Variables are collinear.\")\n"
     ]
    },
    {
     "data": {
      "image/png": "[encoded data removed]",
      "text/plain": [
       "<Figure size 432x288 with 1 Axes>"
      ]
     },
     "metadata": {},
     "output_type": "display_data"
    }
   ],
   "source": [
    "# ML training with sklearn train/test split\n",
    "results = []\n",
    "names = []\n",
    "y_preds = []\n",
    "\n",
    "for model in models:\n",
    "    # Choose model\n",
    "    clf = model[1]\n",
    "    # Train the model on training data\n",
    "    clf.fit(X_train, y_train)\n",
    "    # Prediction on test set\n",
    "    y_pred=clf.predict_proba(X_test)\n",
    "    # Print results\n",
    "    print(model[0],':', clf.score(X_test,y_test))\n",
    "    names.append(model[0])\n",
    "    results.append(clf.score(X_test,y_test))\n",
    "    \n",
    "    \n",
    "# barplot algorithm comparison\n",
    "fig = plt.figure()\n",
    "fig.suptitle('Algorithm Comparison')\n",
    "ax = fig.add_subplot(111)\n",
    "sns.barplot(x=names,y=results)\n",
    "ax.set_ylim((.3,.8))\n",
    "plt.show();\n"
   ]
  },
  {
   "cell_type": "markdown",
   "metadata": {},
   "source": [
    "#### Cross-validation\n",
    "This code utilizes a cross-validation approach to train the ML models"
   ]
  },
  {
   "cell_type": "code",
   "execution_count": 29,
   "metadata": {
    "scrolled": false
   },
   "outputs": [
    {
     "name": "stderr",
     "output_type": "stream",
     "text": [
      "/Users/miketondu/anaconda3/lib/python3.6/site-packages/sklearn/linear_model/logistic.py:432: FutureWarning: Default solver will be changed to 'lbfgs' in 0.22. Specify a solver to silence this warning.\n",
      "  FutureWarning)\n",
      "/Users/miketondu/anaconda3/lib/python3.6/site-packages/sklearn/linear_model/logistic.py:432: FutureWarning: Default solver will be changed to 'lbfgs' in 0.22. Specify a solver to silence this warning.\n",
      "  FutureWarning)\n",
      "/Users/miketondu/anaconda3/lib/python3.6/site-packages/sklearn/linear_model/logistic.py:432: FutureWarning: Default solver will be changed to 'lbfgs' in 0.22. Specify a solver to silence this warning.\n",
      "  FutureWarning)\n",
      "/Users/miketondu/anaconda3/lib/python3.6/site-packages/sklearn/linear_model/logistic.py:432: FutureWarning: Default solver will be changed to 'lbfgs' in 0.22. Specify a solver to silence this warning.\n",
      "  FutureWarning)\n",
      "/Users/miketondu/anaconda3/lib/python3.6/site-packages/sklearn/linear_model/logistic.py:432: FutureWarning: Default solver will be changed to 'lbfgs' in 0.22. Specify a solver to silence this warning.\n",
      "  FutureWarning)\n"
     ]
    },
    {
     "name": "stdout",
     "output_type": "stream",
     "text": [
      "LR: 0.631447 (0.013848)\n",
      "KNN: 0.560795 (0.015258)\n",
      "CART: 0.562548 (0.036341)\n",
      "NB: 0.566688 (0.015794)\n"
     ]
    },
    {
     "name": "stderr",
     "output_type": "stream",
     "text": [
      "/Users/miketondu/anaconda3/lib/python3.6/site-packages/sklearn/svm/base.py:193: FutureWarning: The default value of gamma will change from 'auto' to 'scale' in version 0.22 to account better for unscaled features. Set gamma explicitly to 'auto' or 'scale' to avoid this warning.\n",
      "  \"avoid this warning.\", FutureWarning)\n",
      "/Users/miketondu/anaconda3/lib/python3.6/site-packages/sklearn/svm/base.py:193: FutureWarning: The default value of gamma will change from 'auto' to 'scale' in version 0.22 to account better for unscaled features. Set gamma explicitly to 'auto' or 'scale' to avoid this warning.\n",
      "  \"avoid this warning.\", FutureWarning)\n",
      "/Users/miketondu/anaconda3/lib/python3.6/site-packages/sklearn/svm/base.py:193: FutureWarning: The default value of gamma will change from 'auto' to 'scale' in version 0.22 to account better for unscaled features. Set gamma explicitly to 'auto' or 'scale' to avoid this warning.\n",
      "  \"avoid this warning.\", FutureWarning)\n",
      "/Users/miketondu/anaconda3/lib/python3.6/site-packages/sklearn/svm/base.py:193: FutureWarning: The default value of gamma will change from 'auto' to 'scale' in version 0.22 to account better for unscaled features. Set gamma explicitly to 'auto' or 'scale' to avoid this warning.\n",
      "  \"avoid this warning.\", FutureWarning)\n",
      "/Users/miketondu/anaconda3/lib/python3.6/site-packages/sklearn/svm/base.py:193: FutureWarning: The default value of gamma will change from 'auto' to 'scale' in version 0.22 to account better for unscaled features. Set gamma explicitly to 'auto' or 'scale' to avoid this warning.\n",
      "  \"avoid this warning.\", FutureWarning)\n"
     ]
    },
    {
     "name": "stdout",
     "output_type": "stream",
     "text": [
      "SVM: 0.574655 (0.024520)\n",
      "LDA: 0.625906 (0.017426)\n"
     ]
    },
    {
     "name": "stderr",
     "output_type": "stream",
     "text": [
      "/Users/miketondu/anaconda3/lib/python3.6/site-packages/sklearn/discriminant_analysis.py:388: UserWarning: Variables are collinear.\n",
      "  warnings.warn(\"Variables are collinear.\")\n",
      "/Users/miketondu/anaconda3/lib/python3.6/site-packages/sklearn/discriminant_analysis.py:388: UserWarning: Variables are collinear.\n",
      "  warnings.warn(\"Variables are collinear.\")\n",
      "/Users/miketondu/anaconda3/lib/python3.6/site-packages/sklearn/discriminant_analysis.py:388: UserWarning: Variables are collinear.\n",
      "  warnings.warn(\"Variables are collinear.\")\n",
      "/Users/miketondu/anaconda3/lib/python3.6/site-packages/sklearn/discriminant_analysis.py:388: UserWarning: Variables are collinear.\n",
      "  warnings.warn(\"Variables are collinear.\")\n",
      "/Users/miketondu/anaconda3/lib/python3.6/site-packages/sklearn/discriminant_analysis.py:388: UserWarning: Variables are collinear.\n",
      "  warnings.warn(\"Variables are collinear.\")\n"
     ]
    },
    {
     "data": {
      "image/png": "[encoded data removed]",
      "text/plain": [
       "<Figure size 432x288 with 1 Axes>"
      ]
     },
     "metadata": {},
     "output_type": "display_data"
    }
   ],
   "source": [
    "# Compare Algorithms with Cross validation\n",
    "# prepare configuration for cross validation test harness\n",
    "seed = 7\n",
    "\n",
    "# evaluate each model in turn\n",
    "results = []\n",
    "names = []\n",
    "scoring = 'accuracy'\n",
    "\n",
    "for name, model in models:\n",
    "    kfold = model_selection.KFold(n_splits=5, random_state=seed)\n",
    "    cv_results = model_selection.cross_val_score(model, X, y, cv=kfold, scoring=scoring)\n",
    "    results.append(cv_results)\n",
    "    names.append(name)\n",
    "    msg = \"%s: %f (%f)\" % (name, cv_results.mean(), cv_results.std())\n",
    "    print(msg)\n",
    "\n",
    "# boxplot algorithm comparison\n",
    "fig = plt.figure()\n",
    "fig.suptitle('Algorithm Comparison')\n",
    "ax = fig.add_subplot(111)\n",
    "plt.boxplot(results)\n",
    "ax.set_xticklabels(names)\n",
    "plt.show();"
   ]
  },
  {
   "cell_type": "markdown",
   "metadata": {},
   "source": [
    "## Bet simulator\n",
    "This section uses the predictions obtained in the previous one and simulates having bet on historical matches in order to find out how many of them would've been winning propositions and how much money would've been made or lost using this instance of this model."
   ]
  },
  {
   "cell_type": "code",
   "execution_count": 67,
   "metadata": {},
   "outputs": [
    {
     "name": "stdout",
     "output_type": "stream",
     "text": [
      "There were '241' bets won out of '405' total bets placed, or '59.51' percent won\n",
      "Starting bankroll = '1000'\n",
      "Finishing bankroll = '1642.7949917879837' | ROI = '64.28'\n"
     ]
    }
   ],
   "source": [
    "# Concatenating predictions with its matching dataset\n",
    "predictions = pd.DataFrame(y_pred).set_index(X_test.index)\n",
    "df = pd.concat([odds, predictions], axis=1,join='inner')\n",
    "#df = df[df['season_year']==2014]\n",
    "\n",
    "\n",
    "def kelly(odds,p):\n",
    "    ''' Kelly criterion formula outputs the fraction of your bankroll to bet depending on the odds predicted\n",
    "    f = fraction of the bankroll to bet\n",
    "    b = decimal odds -1\n",
    "    p = implied probability of our model\n",
    "    q = probability of losing (1-p)\n",
    "     '''\n",
    "    b = odds - 1\n",
    "    f = (b*p-(1-p))/b   \n",
    "    return f\n",
    "\n",
    "\n",
    "def model_bet_simulator(dataframe, starting_bankroll):\n",
    "    bets_won = 0\n",
    "    bets_lost = 0\n",
    "    bankroll = starting_bankroll\n",
    "\n",
    "    for i in range(len(dataframe)):\n",
    "        home_team = dataframe['home_team'].values[i]\n",
    "        away_team = dataframe['away_team'].values[i]\n",
    "\n",
    "        home_goals = dataframe['home_goals'].values[i]\n",
    "        away_goals = dataframe['away_goals'].values[i]\n",
    "\n",
    "        home_odds = dataframe['home_odds'].values[i]\n",
    "        draw_odds = dataframe['draw_odds'].values[i]\n",
    "        away_odds = dataframe['away_odds'].values[i]\n",
    "        \n",
    "        prediction = dataframe[1].values[i]\n",
    "        \n",
    "        # Kelly\n",
    "        #wagering_size = .05 \n",
    "        wagering_size = kelly(home_odds,prediction)/2\n",
    "        \n",
    "        # Simulating bets\n",
    "        if prediction > (1/home_odds):\n",
    "            if home_goals > away_goals:\n",
    "                bets_won += 1\n",
    "                bankroll += (bankroll * wagering_size) * (home_odds - 1)\n",
    "            else:\n",
    "                bets_lost += 1\n",
    "                bankroll -= bankroll * wagering_size\n",
    "\n",
    "    ROI = round((bankroll - starting_bankroll) / starting_bankroll * 100,2)\n",
    "    print (\"There were '%s' bets won out of '%s' total bets placed, or '%s' percent won\" % \n",
    "           (bets_won, bets_won+bets_lost, round(bets_won/(bets_won+bets_lost)*100,2)))\n",
    "    \n",
    "    print (\"Starting bankroll = '%s'\" % (starting_bankroll))\n",
    "    print (\"Finishing bankroll = '%s' | ROI = '%s'\" % (bankroll, ROI))\n",
    "    \n",
    "model_bet_simulator(df,1000)"
   ]
  },
  {
   "cell_type": "code",
   "execution_count": 68,
   "metadata": {
    "scrolled": false
   },
   "outputs": [
    {
     "name": "stdout",
     "output_type": "stream",
     "text": [
      "2008 :\n",
      "There were '2' bets won out of '3' total bets placed, or '66.67' percent won\n",
      "Starting bankroll = '10000'\n",
      "Finishing bankroll = '9886.79502309429' | ROI = '-1.13'\n",
      "None\n",
      "-----------------------------------------------------------------\n",
      "2009 :\n",
      "There were '5' bets won out of '8' total bets placed, or '62.5' percent won\n",
      "Starting bankroll = '10000'\n",
      "Finishing bankroll = '11374.758207319665' | ROI = '13.75'\n",
      "None\n",
      "-----------------------------------------------------------------\n",
      "2010 :\n",
      "There were '41' bets won out of '65' total bets placed, or '63.08' percent won\n",
      "Starting bankroll = '10000'\n",
      "Finishing bankroll = '29796.710680696247' | ROI = '197.97'\n",
      "None\n",
      "-----------------------------------------------------------------\n",
      "2011 :\n",
      "There were '25' bets won out of '39' total bets placed, or '64.1' percent won\n",
      "Starting bankroll = '10000'\n",
      "Finishing bankroll = '15810.002793266238' | ROI = '58.1'\n",
      "None\n",
      "-----------------------------------------------------------------\n",
      "2012 :\n",
      "There were '18' bets won out of '25' total bets placed, or '72.0' percent won\n",
      "Starting bankroll = '10000'\n",
      "Finishing bankroll = '12327.089933714298' | ROI = '23.27'\n",
      "None\n",
      "-----------------------------------------------------------------\n",
      "2013 :\n",
      "There were '21' bets won out of '46' total bets placed, or '45.65' percent won\n",
      "Starting bankroll = '10000'\n",
      "Finishing bankroll = '2856.7389339408255' | ROI = '-71.43'\n",
      "None\n",
      "-----------------------------------------------------------------\n",
      "2014 :\n",
      "There were '39' bets won out of '57' total bets placed, or '68.42' percent won\n",
      "Starting bankroll = '10000'\n",
      "Finishing bankroll = '21024.283822807556' | ROI = '110.24'\n",
      "None\n",
      "-----------------------------------------------------------------\n",
      "2015 :\n",
      "There were '15' bets won out of '34' total bets placed, or '44.12' percent won\n",
      "Starting bankroll = '10000'\n",
      "Finishing bankroll = '4115.074813005082' | ROI = '-58.85'\n",
      "None\n",
      "-----------------------------------------------------------------\n",
      "2016 :\n",
      "There were '30' bets won out of '56' total bets placed, or '53.57' percent won\n",
      "Starting bankroll = '10000'\n",
      "Finishing bankroll = '10607.58221223054' | ROI = '6.08'\n",
      "None\n",
      "-----------------------------------------------------------------\n",
      "2017 :\n",
      "There were '14' bets won out of '20' total bets placed, or '70.0' percent won\n",
      "Starting bankroll = '10000'\n",
      "Finishing bankroll = '11725.564046359903' | ROI = '17.26'\n",
      "None\n",
      "-----------------------------------------------------------------\n",
      "2018 :\n",
      "There were '21' bets won out of '35' total bets placed, or '60.0' percent won\n",
      "Starting bankroll = '10000'\n",
      "Finishing bankroll = '8851.50999300661' | ROI = '-11.48'\n",
      "None\n",
      "-----------------------------------------------------------------\n",
      "2019 :\n",
      "There were '6' bets won out of '11' total bets placed, or '54.55' percent won\n",
      "Starting bankroll = '10000'\n",
      "Finishing bankroll = '10381.44245906202' | ROI = '3.81'\n",
      "None\n",
      "-----------------------------------------------------------------\n",
      "2020 :\n",
      "There were '4' bets won out of '6' total bets placed, or '66.67' percent won\n",
      "Starting bankroll = '10000'\n",
      "Finishing bankroll = '8904.92193655907' | ROI = '-10.95'\n",
      "None\n",
      "-----------------------------------------------------------------\n",
      "There were '241' bets won out of '405' total bets placed, or '59.51' percent won\n",
      "Starting bankroll = '10000'\n",
      "Finishing bankroll = '16427.9499178798' | ROI = '64.28'\n"
     ]
    }
   ],
   "source": [
    "for year in df.season_year.unique():\n",
    "    print(year,':')\n",
    "    print( model_bet_simulator(df[df['season_year']==year],10000))\n",
    "    print( '-----------------------------------------------------------------')\n",
    "\n",
    "model_bet_simulator(df, 10000);"
   ]
  },
  {
   "cell_type": "code",
   "execution_count": null,
   "metadata": {},
   "outputs": [],
   "source": []
  }
 ],
 "metadata": {
  "kernelspec": {
   "display_name": "Python 3",
   "language": "python",
   "name": "python3"
  },
  "language_info": {
   "codemirror_mode": {
    "name": "ipython",
    "version": 3
   },
   "file_extension": ".py",
   "mimetype": "text/x-python",
   "name": "python",
   "nbconvert_exporter": "python",
   "pygments_lexer": "ipython3",
   "version": "3.6.5"
  }
 },
 "nbformat": 4,
 "nbformat_minor": 2
}
