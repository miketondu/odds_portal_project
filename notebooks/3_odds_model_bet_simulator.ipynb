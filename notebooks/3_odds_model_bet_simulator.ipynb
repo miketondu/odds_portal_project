{
 "cells": [
  {
   "cell_type": "markdown",
   "metadata": {},
   "source": [
    "# Bolivian Football League Betting Odds\n",
    "## 3. Model Creation\n",
    "\n",
    "The purpose of this notebook is to create a base model to benchmark other algorithms against, and then modelling the resulting data from the previous feature engineering notebook (notebook # 2) using different machine learning supervised learning classifiers.\n",
    "\n",
    "The resulting predictions are then used in a piece of code which simulates bets placed using our newly developed model on historical matches to check the outcome of a hypothetical initial investment."
   ]
  },
  {
   "cell_type": "code",
   "execution_count": 682,
   "metadata": {},
   "outputs": [
    {
     "data": {
      "text/plain": [
       "(20953, 32)"
      ]
     },
     "execution_count": 682,
     "metadata": {},
     "output_type": "execute_result"
    }
   ],
   "source": [
    "# Importing necessary packages\n",
    "import pandas as pd\n",
    "import numpy as np\n",
    "import matplotlib.style as style\n",
    "import matplotlib.pyplot as plt\n",
    "import seaborn as sns\n",
    "import string\n",
    "import matplotlib.ticker as ticker\n",
    "import re\n",
    "import math\n",
    "import sklearn\n",
    "style.use('fivethirtyeight')\n",
    "\n",
    "# Importing SKLEARN packages\n",
    "from sklearn.model_selection import train_test_split\n",
    "from sklearn.model_selection import cross_val_score\n",
    "from sklearn.model_selection import StratifiedKFold\n",
    "from sklearn.ensemble import RandomForestRegressor\n",
    "from sklearn import model_selection\n",
    "from sklearn.linear_model import LogisticRegression\n",
    "from sklearn.tree import DecisionTreeClassifier\n",
    "from sklearn.neighbors import KNeighborsClassifier\n",
    "from sklearn.discriminant_analysis import LinearDiscriminantAnalysis\n",
    "from sklearn.naive_bayes import GaussianNB\n",
    "from sklearn.svm import SVC\n",
    "from xgboost import XGBClassifier\n",
    "from sklearn.metrics import accuracy_score\n",
    "\n",
    "from IPython.core.interactiveshell import InteractiveShell\n",
    "InteractiveShell.ast_node_interactivity = \"all\"\n",
    "%matplotlib inline\n",
    "pd.set_option('display.max_columns', None)\n",
    "pd.set_option('display.max_rows', None)\n",
    "\n",
    "# load dataset\n",
    "odds = pd.read_csv('/Users/miketondu/Dropbox/Data Science/Sharpest Minds/odds_data/bolivian_football_odds_prepared.csv',\n",
    "                  parse_dates= ['date'])\n",
    "\n",
    "\n",
    "# Choosing columns to train model with \n",
    "odds = odds.loc[:,[ 'match_href', \n",
    "                    #'bookmakers',\n",
    "                    'home_odds', 'draw_odds', 'away_odds',\n",
    "                    'payout', \n",
    "                    #'date', \n",
    "                    #'time', \n",
    "                    'season_year', \n",
    "                    'home_team', 'away_team',\n",
    "                    'home_goals', 'away_goals',\n",
    "                    'implied_home_odds', 'implied_draw_odds', 'implied_away_odds',\n",
    "                    #'win_home_or_away', \n",
    "                    'home_win', \n",
    "                    #'away_win',             \n",
    "                    #'over',                    \n",
    "                    'altitude','tropics',\n",
    "                    'season_win_home_team', 'season_win_away_team', \n",
    "                    'season_loss_home_team', 'season_loss_away_team', \n",
    "                    'season_points_home_team','season_points_away_team', \n",
    "                    'season_games_played_home_team','season_games_played_away_team',\n",
    "                    'season_goals_home_team','season_goals_away_team',\n",
    "                    'season_goals_allowed_home_team', 'season_goals_allowed_away_team',\n",
    "                    'season_win_first_h_home_team', 'season_win_first_h_away_team',\n",
    "                    'season_win_second_h_home_team', 'season_win_second_h_away_team']]\n",
    "\n",
    "odds.shape\n",
    "#odds.info()\n",
    "odds['season_year'] = odds.season_year.astype('category')\n",
    "\n",
    "# Creating Unique matches dataframe\n",
    "odds_unique = odds.drop_duplicates('match_href').drop('match_href', axis=1)"
   ]
  },
  {
   "cell_type": "markdown",
   "metadata": {},
   "source": [
    "### Base Model\n",
    "For the purpose of having a base model to compare all other iterations of our model against, we will create a one which will predict a home team win 100% of the time."
   ]
  },
  {
   "cell_type": "code",
   "execution_count": 683,
   "metadata": {
    "scrolled": true
   },
   "outputs": [
    {
     "name": "stdout",
     "output_type": "stream",
     "text": [
      "Accuracy of base model predicting only home wins:  0.551048951048951\n"
     ]
    }
   ],
   "source": [
    "# model_df\n",
    "model_df = odds_unique.copy()\n",
    "target_var = 'home_win'\n",
    "\n",
    "# Creating X and Y\n",
    "X = np.ones(len(odds_unique)).reshape(-1, 1)\n",
    "y = model_df[target_var]\n",
    "\n",
    "# Train/Test Split\n",
    "X_train, X_test, y_train, y_test = train_test_split(X, y, random_state=1)\n",
    "dt = DecisionTreeClassifier()\n",
    "dt.fit(X_train, y_train)\n",
    "\n",
    "# Score on test set\n",
    "print('Accuracy of base model predicting only home wins: ', dt.score(X_test, y_test));"
   ]
  },
  {
   "cell_type": "markdown",
   "metadata": {},
   "source": [
    "### Modelling"
   ]
  },
  {
   "cell_type": "code",
   "execution_count": 684,
   "metadata": {},
   "outputs": [
    {
     "data": {
      "text/plain": [
       "(2860, 77)"
      ]
     },
     "execution_count": 684,
     "metadata": {},
     "output_type": "execute_result"
    },
    {
     "data": {
      "text/plain": [
       "(2860,)"
      ]
     },
     "execution_count": 684,
     "metadata": {},
     "output_type": "execute_result"
    }
   ],
   "source": [
    "# Preparing dataframe to feed it into the model\n",
    "#target_var = 'home_win'\n",
    "\n",
    "model_df = odds_unique.copy().dropna()\n",
    "model_df.drop(['home_goals', 'away_goals'],axis=1,inplace=True)\n",
    "X = model_df.loc[:,model_df.columns!=target_var] \n",
    "X = pd.get_dummies(X)\n",
    "y = model_df.loc[:,target_var]\n",
    "\n",
    "X.shape\n",
    "y.shape"
   ]
  },
  {
   "cell_type": "markdown",
   "metadata": {},
   "source": [
    "#### Train/Test Split\n",
    "This code utilizes a series of Machine Learning algorithms splitting the data into a train and test set"
   ]
  },
  {
   "cell_type": "code",
   "execution_count": 800,
   "metadata": {
    "scrolled": true
   },
   "outputs": [
    {
     "name": "stderr",
     "output_type": "stream",
     "text": [
      "/Users/miketondu/anaconda3/lib/python3.6/site-packages/sklearn/linear_model/logistic.py:432: FutureWarning: Default solver will be changed to 'lbfgs' in 0.22. Specify a solver to silence this warning.\n",
      "  FutureWarning)\n"
     ]
    },
    {
     "name": "stdout",
     "output_type": "stream",
     "text": [
      "LR : 0.6695804195804196\n",
      "KNN : 0.5437062937062938\n",
      "CART : 0.5472027972027972\n",
      "NB : 0.6381118881118881\n"
     ]
    },
    {
     "name": "stderr",
     "output_type": "stream",
     "text": [
      "/Users/miketondu/anaconda3/lib/python3.6/site-packages/sklearn/svm/base.py:193: FutureWarning: The default value of gamma will change from 'auto' to 'scale' in version 0.22 to account better for unscaled features. Set gamma explicitly to 'auto' or 'scale' to avoid this warning.\n",
      "  \"avoid this warning.\", FutureWarning)\n"
     ]
    },
    {
     "name": "stdout",
     "output_type": "stream",
     "text": [
      "SVM : 0.5506993006993007\n",
      "LDA : 0.6625874125874126\n"
     ]
    },
    {
     "name": "stderr",
     "output_type": "stream",
     "text": [
      "/Users/miketondu/anaconda3/lib/python3.6/site-packages/sklearn/discriminant_analysis.py:388: UserWarning: Variables are collinear.\n",
      "  warnings.warn(\"Variables are collinear.\")\n"
     ]
    },
    {
     "data": {
      "image/png": "[encoded data removed]",
      "text/plain": [
       "<Figure size 432x288 with 1 Axes>"
      ]
     },
     "metadata": {},
     "output_type": "display_data"
    }
   ],
   "source": [
    "# Split the data into training and testing sets\n",
    "X_train, X_test, y_train, y_test = train_test_split(X, y, test_size=.2, random_state=42)\n",
    "\n",
    "# Models\n",
    "models = []\n",
    "models.append(('LR', LogisticRegression()))\n",
    "models.append(('KNN', KNeighborsClassifier()))\n",
    "models.append(('CART', DecisionTreeClassifier()))\n",
    "models.append(('NB', GaussianNB()))\n",
    "models.append(('SVM', SVC(probability=True)))\n",
    "models.append(('LDA', LinearDiscriminantAnalysis()))\n",
    "\n",
    "results = []\n",
    "names = []\n",
    "y_preds = []\n",
    "\n",
    "for model in models:\n",
    "    # Choose model\n",
    "    clf = model[1]\n",
    "    # Train the model on training data\n",
    "    clf.fit(X_train, y_train)\n",
    "    # Prediction on test set\n",
    "    y_pred=clf.predict_proba(X_test)\n",
    "    # Print results\n",
    "    print(model[0],':', clf.score(X_test,y_test))\n",
    "    names.append(model[0])\n",
    "    results.append(clf.score(X_test,y_test))\n",
    "    \n",
    "    \n",
    "# barplot algorithm comparison\n",
    "fig = plt.figure()\n",
    "fig.suptitle('Algorithm Comparison')\n",
    "ax = fig.add_subplot(111)\n",
    "sns.barplot(x=names,y=results)\n",
    "ax.set_ylim((.3,.7))\n",
    "plt.show();\n",
    "\n"
   ]
  },
  {
   "cell_type": "markdown",
   "metadata": {},
   "source": [
    "#### Cross-validation\n",
    "This code utilizes a cross-validation approach to train the ML models"
   ]
  },
  {
   "cell_type": "code",
   "execution_count": 801,
   "metadata": {
    "scrolled": true
   },
   "outputs": [
    {
     "name": "stderr",
     "output_type": "stream",
     "text": [
      "/Users/miketondu/anaconda3/lib/python3.6/site-packages/sklearn/linear_model/logistic.py:432: FutureWarning: Default solver will be changed to 'lbfgs' in 0.22. Specify a solver to silence this warning.\n",
      "  FutureWarning)\n",
      "/Users/miketondu/anaconda3/lib/python3.6/site-packages/sklearn/linear_model/logistic.py:432: FutureWarning: Default solver will be changed to 'lbfgs' in 0.22. Specify a solver to silence this warning.\n",
      "  FutureWarning)\n",
      "/Users/miketondu/anaconda3/lib/python3.6/site-packages/sklearn/linear_model/logistic.py:432: FutureWarning: Default solver will be changed to 'lbfgs' in 0.22. Specify a solver to silence this warning.\n",
      "  FutureWarning)\n",
      "/Users/miketondu/anaconda3/lib/python3.6/site-packages/sklearn/linear_model/logistic.py:432: FutureWarning: Default solver will be changed to 'lbfgs' in 0.22. Specify a solver to silence this warning.\n",
      "  FutureWarning)\n",
      "/Users/miketondu/anaconda3/lib/python3.6/site-packages/sklearn/linear_model/logistic.py:432: FutureWarning: Default solver will be changed to 'lbfgs' in 0.22. Specify a solver to silence this warning.\n",
      "  FutureWarning)\n"
     ]
    },
    {
     "name": "stdout",
     "output_type": "stream",
     "text": [
      "LR: 0.631119 (0.015715)\n",
      "KNN: 0.559091 (0.013333)\n",
      "CART: 0.570979 (0.020525)\n",
      "NB: 0.604196 (0.054388)\n"
     ]
    },
    {
     "name": "stderr",
     "output_type": "stream",
     "text": [
      "/Users/miketondu/anaconda3/lib/python3.6/site-packages/sklearn/svm/base.py:193: FutureWarning: The default value of gamma will change from 'auto' to 'scale' in version 0.22 to account better for unscaled features. Set gamma explicitly to 'auto' or 'scale' to avoid this warning.\n",
      "  \"avoid this warning.\", FutureWarning)\n",
      "/Users/miketondu/anaconda3/lib/python3.6/site-packages/sklearn/svm/base.py:193: FutureWarning: The default value of gamma will change from 'auto' to 'scale' in version 0.22 to account better for unscaled features. Set gamma explicitly to 'auto' or 'scale' to avoid this warning.\n",
      "  \"avoid this warning.\", FutureWarning)\n",
      "/Users/miketondu/anaconda3/lib/python3.6/site-packages/sklearn/svm/base.py:193: FutureWarning: The default value of gamma will change from 'auto' to 'scale' in version 0.22 to account better for unscaled features. Set gamma explicitly to 'auto' or 'scale' to avoid this warning.\n",
      "  \"avoid this warning.\", FutureWarning)\n",
      "/Users/miketondu/anaconda3/lib/python3.6/site-packages/sklearn/svm/base.py:193: FutureWarning: The default value of gamma will change from 'auto' to 'scale' in version 0.22 to account better for unscaled features. Set gamma explicitly to 'auto' or 'scale' to avoid this warning.\n",
      "  \"avoid this warning.\", FutureWarning)\n",
      "/Users/miketondu/anaconda3/lib/python3.6/site-packages/sklearn/svm/base.py:193: FutureWarning: The default value of gamma will change from 'auto' to 'scale' in version 0.22 to account better for unscaled features. Set gamma explicitly to 'auto' or 'scale' to avoid this warning.\n",
      "  \"avoid this warning.\", FutureWarning)\n"
     ]
    },
    {
     "name": "stdout",
     "output_type": "stream",
     "text": [
      "SVM: 0.577972 (0.019010)\n",
      "LDA: 0.613287 (0.050384)\n"
     ]
    },
    {
     "name": "stderr",
     "output_type": "stream",
     "text": [
      "/Users/miketondu/anaconda3/lib/python3.6/site-packages/sklearn/discriminant_analysis.py:388: UserWarning: Variables are collinear.\n",
      "  warnings.warn(\"Variables are collinear.\")\n",
      "/Users/miketondu/anaconda3/lib/python3.6/site-packages/sklearn/discriminant_analysis.py:388: UserWarning: Variables are collinear.\n",
      "  warnings.warn(\"Variables are collinear.\")\n",
      "/Users/miketondu/anaconda3/lib/python3.6/site-packages/sklearn/discriminant_analysis.py:388: UserWarning: Variables are collinear.\n",
      "  warnings.warn(\"Variables are collinear.\")\n",
      "/Users/miketondu/anaconda3/lib/python3.6/site-packages/sklearn/discriminant_analysis.py:388: UserWarning: Variables are collinear.\n",
      "  warnings.warn(\"Variables are collinear.\")\n",
      "/Users/miketondu/anaconda3/lib/python3.6/site-packages/sklearn/discriminant_analysis.py:388: UserWarning: Variables are collinear.\n",
      "  warnings.warn(\"Variables are collinear.\")\n"
     ]
    },
    {
     "data": {
      "image/png": "[encoded data removed]",
      "text/plain": [
       "<Figure size 432x288 with 1 Axes>"
      ]
     },
     "metadata": {},
     "output_type": "display_data"
    }
   ],
   "source": [
    "# Compare Algorithms\n",
    "# prepare configuration for cross validation test harness\n",
    "seed = 7\n",
    "\n",
    "# prepare models\n",
    "models = []\n",
    "models.append(('LR', LogisticRegression()))\n",
    "models.append(('KNN', KNeighborsClassifier()))\n",
    "models.append(('CART', DecisionTreeClassifier()))\n",
    "models.append(('NB', GaussianNB()))\n",
    "models.append(('SVM', SVC()))\n",
    "models.append(('LDA', LinearDiscriminantAnalysis()))\n",
    "\n",
    "# evaluate each model in turn\n",
    "results = []\n",
    "names = []\n",
    "scoring = 'accuracy'\n",
    "\n",
    "for name, model in models:\n",
    "    kfold = model_selection.KFold(n_splits=5, random_state=seed)\n",
    "    cv_results = model_selection.cross_val_score(model, X, y, cv=kfold, scoring=scoring)\n",
    "    results.append(cv_results)\n",
    "    names.append(name)\n",
    "    msg = \"%s: %f (%f)\" % (name, cv_results.mean(), cv_results.std())\n",
    "    print(msg)\n",
    "\n",
    "# boxplot algorithm comparison\n",
    "fig = plt.figure()\n",
    "fig.suptitle('Algorithm Comparison')\n",
    "ax = fig.add_subplot(111)\n",
    "plt.boxplot(results)\n",
    "ax.set_xticklabels(names)\n",
    "plt.show();"
   ]
  },
  {
   "cell_type": "markdown",
   "metadata": {},
   "source": [
    "## Bet simulator\n",
    "This section uses the predictions obtained in the previous one and simulates having bet on historical matches in order to find out how many of them would've been winning propositions and how much money would've been made or lost using this instance of this model."
   ]
  },
  {
   "cell_type": "code",
   "execution_count": 805,
   "metadata": {},
   "outputs": [
    {
     "name": "stdout",
     "output_type": "stream",
     "text": [
      "There were '177' bets won out of '282' total bets placed, or '62.77' percent won\n",
      "Starting bankroll = '10000'\n",
      "Finishing bankroll = '15982.411174398489' | ROI = '59.82'\n"
     ]
    }
   ],
   "source": [
    "# Concatenating predictions with its matching dataset\n",
    "predictions = pd.DataFrame(y_pred).set_index(X_test.index)\n",
    "df = pd.concat([odds, predictions], axis=1,join='inner')\n",
    "#df = df[df['season_year']==2014]\n",
    "\n",
    "\n",
    "def kelly(odds,p):\n",
    "    ''' Kelly criterion formula outputs the fraction of your bankroll to bet depending on the odds predicted\n",
    "    f = fraction of the bankroll to bet\n",
    "    b = decimal odds -1\n",
    "    p = implied probability of our model\n",
    "    q = probability of losing (1-p)\n",
    "     '''\n",
    "    b = odds - 1\n",
    "    f = (b*p-(1-p))/b\n",
    "    \n",
    "    return f\n",
    "\n",
    "\n",
    "def model_bet_simulator(dataframe, starting_bankroll):\n",
    "    bets_won = 0\n",
    "    bets_lost = 0\n",
    "    bankroll = starting_bankroll\n",
    "\n",
    "    for i in range(len(dataframe)):\n",
    "        home_team = dataframe['home_team'].values[i]\n",
    "        away_team = dataframe['away_team'].values[i]\n",
    "\n",
    "        home_goals = dataframe['home_goals'].values[i]\n",
    "        away_goals = dataframe['away_goals'].values[i]\n",
    "\n",
    "        home_odds = dataframe['home_odds'].values[i]\n",
    "        draw_odds = dataframe['draw_odds'].values[i]\n",
    "        away_odds = dataframe['away_odds'].values[i]\n",
    "        \n",
    "        prediction = dataframe[1].values[i]\n",
    "        \n",
    "        # Kelly\n",
    "        wagering_size = .02#kelly(home_odds,prediction)/4\n",
    "        \n",
    "        # Simulating bets\n",
    "        if prediction > (1/home_odds):\n",
    "            if home_goals > away_goals:\n",
    "                bets_won += 1\n",
    "                bankroll += (bankroll * wagering_size) * (home_odds - 1)\n",
    "            else:\n",
    "                bets_lost += 1\n",
    "                bankroll -= bankroll * wagering_size\n",
    "\n",
    "    ROI = round((bankroll - starting_bankroll) / starting_bankroll * 100,2)\n",
    "    print (\"There were '%s' bets won out of '%s' total bets placed, or '%s' percent won\" % \n",
    "           (bets_won, bets_won+bets_lost, round(bets_won/(bets_won+bets_lost)*100,2)))\n",
    "    \n",
    "    print (\"Starting bankroll = '%s'\" % (starting_bankroll))\n",
    "    print (\"Finishing bankroll = '%s' | ROI = '%s'\" % (bankroll, ROI))\n",
    "    \n",
    "model_bet_simulator(df,10000)"
   ]
  },
  {
   "cell_type": "code",
   "execution_count": 804,
   "metadata": {},
   "outputs": [
    {
     "name": "stdout",
     "output_type": "stream",
     "text": [
      "2009 :\n",
      "There were '8' bets won out of '11' total bets placed, or '72.73' percent won\n",
      "Starting bankroll = '10000'\n",
      "Finishing bankroll = '10993.726167515795' | ROI = '9.94'\n",
      "None\n",
      "2010 :\n",
      "There were '25' bets won out of '34' total bets placed, or '73.53' percent won\n",
      "Starting bankroll = '10000'\n",
      "Finishing bankroll = '11888.422225069295' | ROI = '18.88'\n",
      "None\n",
      "2011 :\n",
      "There were '23' bets won out of '35' total bets placed, or '65.71' percent won\n",
      "Starting bankroll = '10000'\n",
      "Finishing bankroll = '10831.617559439228' | ROI = '8.32'\n",
      "None\n",
      "2012 :\n",
      "There were '12' bets won out of '18' total bets placed, or '66.67' percent won\n",
      "Starting bankroll = '10000'\n",
      "Finishing bankroll = '10409.013961036293' | ROI = '4.09'\n",
      "None\n",
      "2013 :\n",
      "There were '15' bets won out of '24' total bets placed, or '62.5' percent won\n",
      "Starting bankroll = '10000'\n",
      "Finishing bankroll = '9987.558648602808' | ROI = '-0.12'\n",
      "None\n",
      "2014 :\n",
      "There were '28' bets won out of '43' total bets placed, or '65.12' percent won\n",
      "Starting bankroll = '10000'\n",
      "Finishing bankroll = '11328.634148079158' | ROI = '13.29'\n",
      "None\n",
      "2015 :\n",
      "There were '9' bets won out of '20' total bets placed, or '45.0' percent won\n",
      "Starting bankroll = '10000'\n",
      "Finishing bankroll = '9638.786797767334' | ROI = '-3.61'\n",
      "None\n",
      "2016 :\n",
      "There were '16' bets won out of '28' total bets placed, or '57.14' percent won\n",
      "Starting bankroll = '10000'\n",
      "Finishing bankroll = '9393.209399435025' | ROI = '-6.07'\n",
      "None\n",
      "2017 :\n",
      "There were '16' bets won out of '25' total bets placed, or '64.0' percent won\n",
      "Starting bankroll = '10000'\n",
      "Finishing bankroll = '10808.080045206585' | ROI = '8.08'\n",
      "None\n",
      "2018 :\n",
      "There were '20' bets won out of '30' total bets placed, or '66.67' percent won\n",
      "Starting bankroll = '10000'\n",
      "Finishing bankroll = '11387.50200810572' | ROI = '13.88'\n",
      "None\n",
      "2019 :\n",
      "There were '5' bets won out of '14' total bets placed, or '35.71' percent won\n",
      "Starting bankroll = '10000'\n",
      "Finishing bankroll = '8602.406541570506' | ROI = '-13.98'\n",
      "None\n",
      "There were '177' bets won out of '282' total bets placed, or '62.77' percent won\n",
      "Starting bankroll = '10000'\n",
      "Finishing bankroll = '15982.411174398489' | ROI = '59.82'\n"
     ]
    }
   ],
   "source": [
    "for year in df.season_year.unique():\n",
    "    print(year,':')\n",
    "    print( model_bet_simulator(df[df['season_year']==year],10000))\n",
    "\n",
    "model_bet_simulator(df, 10000);"
   ]
  },
  {
   "cell_type": "code",
   "execution_count": null,
   "metadata": {},
   "outputs": [],
   "source": []
  }
 ],
 "metadata": {
  "kernelspec": {
   "display_name": "Python 3",
   "language": "python",
   "name": "python3"
  },
  "language_info": {
   "codemirror_mode": {
    "name": "ipython",
    "version": 3
   },
   "file_extension": ".py",
   "mimetype": "text/x-python",
   "name": "python",
   "nbconvert_exporter": "python",
   "pygments_lexer": "ipython3",
   "version": "3.6.5"
  }
 },
 "nbformat": 4,
 "nbformat_minor": 2
}
