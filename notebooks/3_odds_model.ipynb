{
 "cells": [
  {
   "cell_type": "markdown",
   "metadata": {},
   "source": [
    "# Bolivian Football League Betting Odds\n",
    "## 3. Model Creation\n",
    "\n",
    "The purpose of this notebook is to create a base model to benchmark other algorithms against, and then trying out different classifiers on the dataframe previously engineered."
   ]
  },
  {
   "cell_type": "code",
   "execution_count": 225,
   "metadata": {},
   "outputs": [
    {
     "data": {
      "text/plain": [
       "Index(['match', 'match_href', 'bookmakers', 'payout', 'date', 'time',\n",
       "       'season_year', 'home_team', 'away_team', 'implied_home_odds',\n",
       "       'implied_draw_odds', 'implied_away_odds', 'over', 'win_home_or_away',\n",
       "       'winner', 'home_win', 'upset', 'altitude', 'tropics',\n",
       "       'season_win_home_team', 'season_win_away_team', 'season_loss_home_team',\n",
       "       'season_loss_away_team', 'season_points_home_team',\n",
       "       'season_points_away_team', 'season_games_played_home_team',\n",
       "       'season_games_played_away_team', 'season_goals_home_team',\n",
       "       'season_goals_away_team', 'season_goals_allowed_home_team',\n",
       "       'season_goals_allowed_away_team', 'season_win_first_h_home_team',\n",
       "       'season_win_first_h_away_team', 'season_win_second_h_home_team',\n",
       "       'season_win_second_h_away_team'],\n",
       "      dtype='object')"
      ]
     },
     "execution_count": 225,
     "metadata": {},
     "output_type": "execute_result"
    },
    {
     "data": {
      "text/plain": [
       "(20776, 35)"
      ]
     },
     "execution_count": 225,
     "metadata": {},
     "output_type": "execute_result"
    }
   ],
   "source": [
    "# Importing necessary packages\n",
    "import pandas as pd\n",
    "import numpy as np\n",
    "import matplotlib.style as style\n",
    "import matplotlib.pyplot as plt\n",
    "import seaborn as sns\n",
    "import string\n",
    "import matplotlib.ticker as ticker\n",
    "import re\n",
    "import sklearn\n",
    "style.use('fivethirtyeight')\n",
    "\n",
    "# Importing SKLEARN packages\n",
    "from sklearn.model_selection import train_test_split\n",
    "from sklearn.model_selection import cross_val_score\n",
    "from sklearn.model_selection import StratifiedKFold\n",
    "from sklearn.ensemble import RandomForestRegressor\n",
    "from sklearn import model_selection\n",
    "from sklearn.linear_model import LogisticRegression\n",
    "from sklearn.tree import DecisionTreeClassifier\n",
    "from sklearn.neighbors import KNeighborsClassifier\n",
    "from sklearn.discriminant_analysis import LinearDiscriminantAnalysis\n",
    "from sklearn.naive_bayes import GaussianNB\n",
    "from sklearn.svm import SVC\n",
    "from xgboost import XGBClassifier\n",
    "from sklearn.metrics import accuracy_score\n",
    "\n",
    "from IPython.core.interactiveshell import InteractiveShell\n",
    "InteractiveShell.ast_node_interactivity = \"all\"\n",
    "%matplotlib inline\n",
    "pd.set_option('display.max_columns', None)\n",
    "pd.set_option('display.max_rows', None)\n",
    "\n",
    "# load dataset\n",
    "odds = pd.read_csv('/Users/miketondu/Dropbox/Data Science/Sharpest Minds/odds_data/bolivian_football_odds_prepared.csv',\n",
    "                  parse_dates= ['date'])\n",
    "\n",
    "# Dropping columns which are no longer useful for modelling purposes\n",
    "#odds.drop_duplicates('match_href').head(1000)\n",
    "\n",
    "odds.drop([ 'home_odds', 'draw_odds',\n",
    "            'away_odds','final_result',\n",
    "            'away_win', 'home_loss', 'away_loss', \n",
    "            'home_points', 'away_points',\n",
    "            'home_goals', 'away_goals',\n",
    "            'first_half_home', 'first_half_away',\n",
    "            'second_half_home','second_half_away',\n",
    "            'home_games_played', 'away_games_played',\n",
    "            'home_goals_allowed',\n",
    "            'away_goals_allowed', 'total_goals', 'total_first_half',\n",
    "            'total_second_half','home_win_first_h', 'away_win_first_h', 'home_win_second_h',\n",
    "            'away_win_second_h',\n",
    "            'cumulative_home_win', 'cumulative_away_win',\n",
    "            'cumulative_home_loss', 'cumulative_away_loss','cumulative_home_points',\n",
    "            'cumulative_away_points','cumulative_home_games_played',\n",
    "            'cumulative_away_games_played','cumulative_home_goals_allowed', 'cumulative_away_goals_allowed',\n",
    "            'cumulative_home_win_first_h',\n",
    "            'cumulative_away_win_first_h', 'cumulative_home_win_second_h',\n",
    "            'cumulative_away_win_second_h', 'cumulative_home_goals',\n",
    "            'cumulative_away_goals',]\n",
    "          ,axis=1,inplace=True)\n",
    "\n",
    "\n",
    "odds.columns\n",
    "odds.shape\n",
    "#odds.info()\n",
    "odds_unique = odds.drop_duplicates('match_href')"
   ]
  },
  {
   "cell_type": "code",
   "execution_count": 213,
   "metadata": {},
   "outputs": [
    {
     "data": {
      "text/plain": [
       "(20776, 25)"
      ]
     },
     "execution_count": 213,
     "metadata": {},
     "output_type": "execute_result"
    }
   ],
   "source": [
    "odds = odds.loc[:,[ 'implied_home_odds', 'implied_draw_odds', \n",
    "                    'implied_away_odds','season_year',\n",
    "                    'home_team','away_team',\n",
    "                    'home_win',               \n",
    "                    #'over',                    \n",
    "                    'altitude','tropics',\n",
    "                    'season_win_home_team', 'season_win_away_team', \n",
    "                    'season_loss_home_team', 'season_loss_away_team', \n",
    "                    'season_points_home_team','season_points_away_team', \n",
    "                    'season_games_played_home_team','season_games_played_away_team',\n",
    "                    'season_goals_home_team','season_goals_away_team',\n",
    "                    'season_goals_allowed_home_team', 'season_goals_allowed_away_team',\n",
    "                    'season_win_first_h_home_team', 'season_win_first_h_away_team',\n",
    "                    'season_win_second_h_home_team', 'season_win_second_h_away_team']]\n",
    "odds.shape\n",
    "\n"
   ]
  },
  {
   "cell_type": "code",
   "execution_count": 226,
   "metadata": {},
   "outputs": [
    {
     "data": {
      "text/plain": [
       "(2840, 25)"
      ]
     },
     "execution_count": 226,
     "metadata": {},
     "output_type": "execute_result"
    }
   ],
   "source": [
    "odds_unique = odds_unique.loc[:,[ 'implied_home_odds', 'implied_draw_odds', \n",
    "                    'implied_away_odds','season_year',\n",
    "                    'home_team','away_team',\n",
    "                    'home_win',               \n",
    "                    #'over',                    \n",
    "                    'altitude','tropics',\n",
    "                    'season_win_home_team', 'season_win_away_team', \n",
    "                    'season_loss_home_team', 'season_loss_away_team', \n",
    "                    'season_points_home_team','season_points_away_team', \n",
    "                    'season_games_played_home_team','season_games_played_away_team',\n",
    "                    'season_goals_home_team','season_goals_away_team',\n",
    "                    'season_goals_allowed_home_team', 'season_goals_allowed_away_team',\n",
    "                    'season_win_first_h_home_team', 'season_win_first_h_away_team',\n",
    "                    'season_win_second_h_home_team', 'season_win_second_h_away_team']]\n",
    "odds_unique.shape\n",
    "\n"
   ]
  },
  {
   "cell_type": "code",
   "execution_count": 214,
   "metadata": {},
   "outputs": [
    {
     "data": {
      "text/html": [
       "<div>\n",
       "<style scoped>\n",
       "    .dataframe tbody tr th:only-of-type {\n",
       "        vertical-align: middle;\n",
       "    }\n",
       "\n",
       "    .dataframe tbody tr th {\n",
       "        vertical-align: top;\n",
       "    }\n",
       "\n",
       "    .dataframe thead th {\n",
       "        text-align: right;\n",
       "    }\n",
       "</style>\n",
       "<table border=\"1\" class=\"dataframe\">\n",
       "  <thead>\n",
       "    <tr style=\"text-align: right;\">\n",
       "      <th></th>\n",
       "      <th>implied_home_odds</th>\n",
       "      <th>implied_draw_odds</th>\n",
       "      <th>implied_away_odds</th>\n",
       "      <th>season_year</th>\n",
       "      <th>home_team</th>\n",
       "      <th>away_team</th>\n",
       "      <th>home_win</th>\n",
       "      <th>altitude</th>\n",
       "      <th>tropics</th>\n",
       "      <th>season_win_home_team</th>\n",
       "      <th>season_win_away_team</th>\n",
       "      <th>season_loss_home_team</th>\n",
       "      <th>season_loss_away_team</th>\n",
       "      <th>season_points_home_team</th>\n",
       "      <th>season_points_away_team</th>\n",
       "      <th>season_games_played_home_team</th>\n",
       "      <th>season_games_played_away_team</th>\n",
       "      <th>season_goals_home_team</th>\n",
       "      <th>season_goals_away_team</th>\n",
       "      <th>season_goals_allowed_home_team</th>\n",
       "      <th>season_goals_allowed_away_team</th>\n",
       "      <th>season_win_first_h_home_team</th>\n",
       "      <th>season_win_first_h_away_team</th>\n",
       "      <th>season_win_second_h_home_team</th>\n",
       "      <th>season_win_second_h_away_team</th>\n",
       "    </tr>\n",
       "  </thead>\n",
       "  <tbody>\n",
       "    <tr>\n",
       "      <th>0</th>\n",
       "      <td>0.606</td>\n",
       "      <td>0.274</td>\n",
       "      <td>0.233</td>\n",
       "      <td>2008</td>\n",
       "      <td>La Paz</td>\n",
       "      <td>Blooming</td>\n",
       "      <td>1</td>\n",
       "      <td>1</td>\n",
       "      <td>1</td>\n",
       "      <td>0.0</td>\n",
       "      <td>0.0</td>\n",
       "      <td>0.0</td>\n",
       "      <td>0.0</td>\n",
       "      <td>0.0</td>\n",
       "      <td>0.0</td>\n",
       "      <td>0.0</td>\n",
       "      <td>0.0</td>\n",
       "      <td>0.0</td>\n",
       "      <td>0.0</td>\n",
       "      <td>0.0</td>\n",
       "      <td>0.0</td>\n",
       "      <td>0.0</td>\n",
       "      <td>0.0</td>\n",
       "      <td>0.0</td>\n",
       "      <td>0.0</td>\n",
       "    </tr>\n",
       "    <tr>\n",
       "      <th>1</th>\n",
       "      <td>0.532</td>\n",
       "      <td>0.299</td>\n",
       "      <td>0.282</td>\n",
       "      <td>2008</td>\n",
       "      <td>Real Potosi</td>\n",
       "      <td>Aurora</td>\n",
       "      <td>0</td>\n",
       "      <td>1</td>\n",
       "      <td>1</td>\n",
       "      <td>0.0</td>\n",
       "      <td>0.0</td>\n",
       "      <td>0.0</td>\n",
       "      <td>0.0</td>\n",
       "      <td>0.0</td>\n",
       "      <td>0.0</td>\n",
       "      <td>0.0</td>\n",
       "      <td>0.0</td>\n",
       "      <td>0.0</td>\n",
       "      <td>0.0</td>\n",
       "      <td>0.0</td>\n",
       "      <td>0.0</td>\n",
       "      <td>0.0</td>\n",
       "      <td>0.0</td>\n",
       "      <td>0.0</td>\n",
       "      <td>0.0</td>\n",
       "    </tr>\n",
       "    <tr>\n",
       "      <th>2</th>\n",
       "      <td>0.606</td>\n",
       "      <td>0.286</td>\n",
       "      <td>0.253</td>\n",
       "      <td>2008</td>\n",
       "      <td>La Paz</td>\n",
       "      <td>Blooming</td>\n",
       "      <td>1</td>\n",
       "      <td>1</td>\n",
       "      <td>1</td>\n",
       "      <td>0.0</td>\n",
       "      <td>0.0</td>\n",
       "      <td>0.0</td>\n",
       "      <td>0.0</td>\n",
       "      <td>0.0</td>\n",
       "      <td>0.0</td>\n",
       "      <td>0.0</td>\n",
       "      <td>0.0</td>\n",
       "      <td>0.0</td>\n",
       "      <td>0.0</td>\n",
       "      <td>0.0</td>\n",
       "      <td>0.0</td>\n",
       "      <td>0.0</td>\n",
       "      <td>0.0</td>\n",
       "      <td>0.0</td>\n",
       "      <td>0.0</td>\n",
       "    </tr>\n",
       "    <tr>\n",
       "      <th>3</th>\n",
       "      <td>0.541</td>\n",
       "      <td>0.308</td>\n",
       "      <td>0.294</td>\n",
       "      <td>2008</td>\n",
       "      <td>Real Potosi</td>\n",
       "      <td>Aurora</td>\n",
       "      <td>0</td>\n",
       "      <td>1</td>\n",
       "      <td>1</td>\n",
       "      <td>0.0</td>\n",
       "      <td>0.0</td>\n",
       "      <td>0.0</td>\n",
       "      <td>0.0</td>\n",
       "      <td>0.0</td>\n",
       "      <td>0.0</td>\n",
       "      <td>0.0</td>\n",
       "      <td>0.0</td>\n",
       "      <td>0.0</td>\n",
       "      <td>0.0</td>\n",
       "      <td>0.0</td>\n",
       "      <td>0.0</td>\n",
       "      <td>0.0</td>\n",
       "      <td>0.0</td>\n",
       "      <td>0.0</td>\n",
       "      <td>0.0</td>\n",
       "    </tr>\n",
       "    <tr>\n",
       "      <th>4</th>\n",
       "      <td>0.667</td>\n",
       "      <td>0.290</td>\n",
       "      <td>0.185</td>\n",
       "      <td>2008</td>\n",
       "      <td>Blooming</td>\n",
       "      <td>La Paz</td>\n",
       "      <td>1</td>\n",
       "      <td>0</td>\n",
       "      <td>0</td>\n",
       "      <td>0.0</td>\n",
       "      <td>1.0</td>\n",
       "      <td>1.0</td>\n",
       "      <td>0.0</td>\n",
       "      <td>0.0</td>\n",
       "      <td>3.0</td>\n",
       "      <td>1.0</td>\n",
       "      <td>1.0</td>\n",
       "      <td>1.0</td>\n",
       "      <td>2.0</td>\n",
       "      <td>2.0</td>\n",
       "      <td>1.0</td>\n",
       "      <td>0.0</td>\n",
       "      <td>1.0</td>\n",
       "      <td>0.0</td>\n",
       "      <td>0.0</td>\n",
       "    </tr>\n",
       "  </tbody>\n",
       "</table>\n",
       "</div>"
      ],
      "text/plain": [
       "   implied_home_odds  implied_draw_odds  implied_away_odds  season_year  \\\n",
       "0              0.606              0.274              0.233         2008   \n",
       "1              0.532              0.299              0.282         2008   \n",
       "2              0.606              0.286              0.253         2008   \n",
       "3              0.541              0.308              0.294         2008   \n",
       "4              0.667              0.290              0.185         2008   \n",
       "\n",
       "     home_team away_team  home_win  altitude  tropics  season_win_home_team  \\\n",
       "0       La Paz  Blooming         1         1        1                   0.0   \n",
       "1  Real Potosi    Aurora         0         1        1                   0.0   \n",
       "2       La Paz  Blooming         1         1        1                   0.0   \n",
       "3  Real Potosi    Aurora         0         1        1                   0.0   \n",
       "4     Blooming    La Paz         1         0        0                   0.0   \n",
       "\n",
       "   season_win_away_team  season_loss_home_team  season_loss_away_team  \\\n",
       "0                   0.0                    0.0                    0.0   \n",
       "1                   0.0                    0.0                    0.0   \n",
       "2                   0.0                    0.0                    0.0   \n",
       "3                   0.0                    0.0                    0.0   \n",
       "4                   1.0                    1.0                    0.0   \n",
       "\n",
       "   season_points_home_team  season_points_away_team  \\\n",
       "0                      0.0                      0.0   \n",
       "1                      0.0                      0.0   \n",
       "2                      0.0                      0.0   \n",
       "3                      0.0                      0.0   \n",
       "4                      0.0                      3.0   \n",
       "\n",
       "   season_games_played_home_team  season_games_played_away_team  \\\n",
       "0                            0.0                            0.0   \n",
       "1                            0.0                            0.0   \n",
       "2                            0.0                            0.0   \n",
       "3                            0.0                            0.0   \n",
       "4                            1.0                            1.0   \n",
       "\n",
       "   season_goals_home_team  season_goals_away_team  \\\n",
       "0                     0.0                     0.0   \n",
       "1                     0.0                     0.0   \n",
       "2                     0.0                     0.0   \n",
       "3                     0.0                     0.0   \n",
       "4                     1.0                     2.0   \n",
       "\n",
       "   season_goals_allowed_home_team  season_goals_allowed_away_team  \\\n",
       "0                             0.0                             0.0   \n",
       "1                             0.0                             0.0   \n",
       "2                             0.0                             0.0   \n",
       "3                             0.0                             0.0   \n",
       "4                             2.0                             1.0   \n",
       "\n",
       "   season_win_first_h_home_team  season_win_first_h_away_team  \\\n",
       "0                           0.0                           0.0   \n",
       "1                           0.0                           0.0   \n",
       "2                           0.0                           0.0   \n",
       "3                           0.0                           0.0   \n",
       "4                           0.0                           1.0   \n",
       "\n",
       "   season_win_second_h_home_team  season_win_second_h_away_team  \n",
       "0                            0.0                            0.0  \n",
       "1                            0.0                            0.0  \n",
       "2                            0.0                            0.0  \n",
       "3                            0.0                            0.0  \n",
       "4                            0.0                            0.0  "
      ]
     },
     "execution_count": 214,
     "metadata": {},
     "output_type": "execute_result"
    }
   ],
   "source": [
    "odds.head()"
   ]
  },
  {
   "cell_type": "markdown",
   "metadata": {},
   "source": [
    "### Base Model\n",
    "For the purpose of having a base model to compare all other iterations of our model against, we will create a one which will predict a home team win 100% of the time."
   ]
  },
  {
   "cell_type": "code",
   "execution_count": 227,
   "metadata": {
    "scrolled": true
   },
   "outputs": [
    {
     "data": {
      "text/plain": [
       "DecisionTreeClassifier(class_weight=None, criterion='gini', max_depth=None,\n",
       "                       max_features=None, max_leaf_nodes=None,\n",
       "                       min_impurity_decrease=0.0, min_impurity_split=None,\n",
       "                       min_samples_leaf=1, min_samples_split=2,\n",
       "                       min_weight_fraction_leaf=0.0, presort=False,\n",
       "                       random_state=None, splitter='best')"
      ]
     },
     "execution_count": 227,
     "metadata": {},
     "output_type": "execute_result"
    },
    {
     "name": "stdout",
     "output_type": "stream",
     "text": [
      "Accuracy of base model predicting only home wins:  0.5542934154793993\n"
     ]
    }
   ],
   "source": [
    "# model_df\n",
    "model_df = odds.copy()\n",
    "target_var = 'home_win'\n",
    "\n",
    "# Creating X and Y\n",
    "X = np.ones(len(odds)).reshape(-1, 1)\n",
    "y = model_df[target_var]\n",
    "\n",
    "# Train/Test Split\n",
    "X_train, X_test, y_train, y_test = train_test_split(X, y, random_state=1)\n",
    "dt = DecisionTreeClassifier()\n",
    "dt.fit(X_train, y_train)\n",
    "\n",
    "# Score on test set\n",
    "print('Accuracy of base model predicting only home wins: ', dt.score(X_test, y_test))"
   ]
  },
  {
   "cell_type": "markdown",
   "metadata": {},
   "source": [
    "### Modelling"
   ]
  },
  {
   "cell_type": "code",
   "execution_count": 229,
   "metadata": {},
   "outputs": [
    {
     "data": {
      "text/plain": [
       "(2840, 62)"
      ]
     },
     "execution_count": 229,
     "metadata": {},
     "output_type": "execute_result"
    },
    {
     "data": {
      "text/plain": [
       "(2840,)"
      ]
     },
     "execution_count": 229,
     "metadata": {},
     "output_type": "execute_result"
    }
   ],
   "source": [
    "# Preparing dataframe to feed it into the model\n",
    "target_var = 'home_win'\n",
    "\n",
    "model_df = odds_unique.copy().dropna()\n",
    "X = model_df.loc[:,odds_unique.columns!=target_var] \n",
    "X = pd.get_dummies(X)\n",
    "y = model_df.loc[:,target_var]\n",
    "\n",
    "X.shape\n",
    "y.shape"
   ]
  },
  {
   "cell_type": "code",
   "execution_count": 238,
   "metadata": {},
   "outputs": [
    {
     "data": {
      "text/plain": [
       "RandomForestRegressor(bootstrap=True, criterion='mse', max_depth=None,\n",
       "                      max_features='auto', max_leaf_nodes=None,\n",
       "                      min_impurity_decrease=0.0, min_impurity_split=None,\n",
       "                      min_samples_leaf=1, min_samples_split=2,\n",
       "                      min_weight_fraction_leaf=0.0, n_estimators=1000,\n",
       "                      n_jobs=None, oob_score=False, random_state=42, verbose=0,\n",
       "                      warm_start=False)"
      ]
     },
     "execution_count": 238,
     "metadata": {},
     "output_type": "execute_result"
    },
    {
     "data": {
      "text/plain": [
       "0.06441241375590678"
      ]
     },
     "execution_count": 238,
     "metadata": {},
     "output_type": "execute_result"
    }
   ],
   "source": [
    "# Random forest\n",
    "# Split the data into training and testing sets\n",
    "X_train, X_test, y_train, y_test = train_test_split(X, y, test_size=0.40, random_state=5)\n",
    "\n",
    "# Instantiate model with 1000 decision trees\n",
    "rf = RandomForestRegressor(n_estimators = 1000, random_state = 42)\n",
    "\n",
    "# Train the model on training data\n",
    "rf.fit(X_train, y_train)\n",
    "\n",
    "# Prediction on test set\n",
    "y_pred=rf.predict(X_test)\n",
    "rf.score(X_test,y_test)\n"
   ]
  },
  {
   "cell_type": "code",
   "execution_count": 239,
   "metadata": {},
   "outputs": [
    {
     "name": "stderr",
     "output_type": "stream",
     "text": [
      "/Users/miketondu/anaconda3/lib/python3.6/site-packages/sklearn/svm/base.py:193: FutureWarning: The default value of gamma will change from 'auto' to 'scale' in version 0.22 to account better for unscaled features. Set gamma explicitly to 'auto' or 'scale' to avoid this warning.\n",
      "  \"avoid this warning.\", FutureWarning)\n"
     ]
    },
    {
     "data": {
      "text/plain": [
       "SVC(C=1.0, cache_size=200, class_weight=None, coef0=0.0,\n",
       "    decision_function_shape='ovr', degree=3, gamma='auto_deprecated',\n",
       "    kernel='rbf', max_iter=-1, probability=False, random_state=None,\n",
       "    shrinking=True, tol=0.001, verbose=False)"
      ]
     },
     "execution_count": 239,
     "metadata": {},
     "output_type": "execute_result"
    },
    {
     "data": {
      "text/plain": [
       "0.5492957746478874"
      ]
     },
     "execution_count": 239,
     "metadata": {},
     "output_type": "execute_result"
    }
   ],
   "source": [
    "# SVM \n",
    "# Split the data into training and testing sets\n",
    "X_train, X_test, y_train, y_test = train_test_split(X, y, test_size=0.30, random_state=5)\n",
    "\n",
    "# Instantiate model \n",
    "clf = SVC()\n",
    "\n",
    "# Train the model on training data\n",
    "clf.fit(X_train, y_train)\n",
    "\n",
    "# Prediction on test set\n",
    "y_pred=clf.predict(X_test)\n",
    "clf.score(X_test,y_test)\n"
   ]
  },
  {
   "cell_type": "code",
   "execution_count": 246,
   "metadata": {
    "scrolled": true
   },
   "outputs": [
    {
     "name": "stderr",
     "output_type": "stream",
     "text": [
      "/Users/miketondu/anaconda3/lib/python3.6/site-packages/sklearn/linear_model/logistic.py:432: FutureWarning: Default solver will be changed to 'lbfgs' in 0.22. Specify a solver to silence this warning.\n",
      "  FutureWarning)\n"
     ]
    },
    {
     "data": {
      "text/plain": [
       "LogisticRegression(C=1.0, class_weight=None, dual=False, fit_intercept=True,\n",
       "                   intercept_scaling=1, l1_ratio=None, max_iter=100,\n",
       "                   multi_class='warn', n_jobs=None, penalty='l2',\n",
       "                   random_state=None, solver='warn', tol=0.0001, verbose=0,\n",
       "                   warm_start=False)"
      ]
     },
     "execution_count": 246,
     "metadata": {},
     "output_type": "execute_result"
    },
    {
     "data": {
      "text/plain": [
       "0.6467136150234741"
      ]
     },
     "execution_count": 246,
     "metadata": {},
     "output_type": "execute_result"
    }
   ],
   "source": [
    "# Split the data into training and testing sets\n",
    "X_train, X_test, y_train, y_test = train_test_split(X, y, test_size=0.30, random_state=5)\n",
    "\n",
    "\n",
    "# Models\n",
    "\n",
    "models = []\n",
    "models.append(('LR', LogisticRegression()))\n",
    "models.append(('LDA', LinearDiscriminantAnalysis()))\n",
    "models.append(('KNN', KNeighborsClassifier()))\n",
    "models.append(('CART', DecisionTreeClassifier()))\n",
    "models.append(('RFR', RandomForestRegressor()))\n",
    "models.append(('NB', GaussianNB()))\n",
    "models.append(('SVM', SVC()))\n",
    "\n",
    "\n",
    "# Choose model\n",
    "clf = models[0][1]\n",
    "\n",
    "# Train the model on training data\n",
    "clf.fit(X_train, y_train)\n",
    "\n",
    "# Prediction on test set\n",
    "y_pred=clf.predict(X_test)\n",
    "\n",
    "clf.score(X_test,y_test)\n",
    "\n"
   ]
  },
  {
   "cell_type": "code",
   "execution_count": 247,
   "metadata": {
    "scrolled": false
   },
   "outputs": [
    {
     "name": "stderr",
     "output_type": "stream",
     "text": [
      "/Users/miketondu/anaconda3/lib/python3.6/site-packages/sklearn/linear_model/logistic.py:432: FutureWarning: Default solver will be changed to 'lbfgs' in 0.22. Specify a solver to silence this warning.\n",
      "  FutureWarning)\n",
      "/Users/miketondu/anaconda3/lib/python3.6/site-packages/sklearn/linear_model/logistic.py:432: FutureWarning: Default solver will be changed to 'lbfgs' in 0.22. Specify a solver to silence this warning.\n",
      "  FutureWarning)\n",
      "/Users/miketondu/anaconda3/lib/python3.6/site-packages/sklearn/linear_model/logistic.py:432: FutureWarning: Default solver will be changed to 'lbfgs' in 0.22. Specify a solver to silence this warning.\n",
      "  FutureWarning)\n",
      "/Users/miketondu/anaconda3/lib/python3.6/site-packages/sklearn/linear_model/logistic.py:432: FutureWarning: Default solver will be changed to 'lbfgs' in 0.22. Specify a solver to silence this warning.\n",
      "  FutureWarning)\n",
      "/Users/miketondu/anaconda3/lib/python3.6/site-packages/sklearn/linear_model/logistic.py:432: FutureWarning: Default solver will be changed to 'lbfgs' in 0.22. Specify a solver to silence this warning.\n",
      "  FutureWarning)\n",
      "/Users/miketondu/anaconda3/lib/python3.6/site-packages/sklearn/discriminant_analysis.py:388: UserWarning: Variables are collinear.\n",
      "  warnings.warn(\"Variables are collinear.\")\n"
     ]
    },
    {
     "name": "stdout",
     "output_type": "stream",
     "text": [
      "LR: 0.649648 (0.014259)\n",
      "LDA: 0.640845 (0.010622)\n"
     ]
    },
    {
     "name": "stderr",
     "output_type": "stream",
     "text": [
      "/Users/miketondu/anaconda3/lib/python3.6/site-packages/sklearn/discriminant_analysis.py:388: UserWarning: Variables are collinear.\n",
      "  warnings.warn(\"Variables are collinear.\")\n",
      "/Users/miketondu/anaconda3/lib/python3.6/site-packages/sklearn/discriminant_analysis.py:388: UserWarning: Variables are collinear.\n",
      "  warnings.warn(\"Variables are collinear.\")\n",
      "/Users/miketondu/anaconda3/lib/python3.6/site-packages/sklearn/discriminant_analysis.py:388: UserWarning: Variables are collinear.\n",
      "  warnings.warn(\"Variables are collinear.\")\n",
      "/Users/miketondu/anaconda3/lib/python3.6/site-packages/sklearn/discriminant_analysis.py:388: UserWarning: Variables are collinear.\n",
      "  warnings.warn(\"Variables are collinear.\")\n"
     ]
    },
    {
     "name": "stdout",
     "output_type": "stream",
     "text": [
      "KNN: 0.557394 (0.020184)\n",
      "CART: 0.556690 (0.041921)\n",
      "NB: 0.614437 (0.036745)\n"
     ]
    },
    {
     "name": "stderr",
     "output_type": "stream",
     "text": [
      "/Users/miketondu/anaconda3/lib/python3.6/site-packages/sklearn/svm/base.py:193: FutureWarning: The default value of gamma will change from 'auto' to 'scale' in version 0.22 to account better for unscaled features. Set gamma explicitly to 'auto' or 'scale' to avoid this warning.\n",
      "  \"avoid this warning.\", FutureWarning)\n",
      "/Users/miketondu/anaconda3/lib/python3.6/site-packages/sklearn/svm/base.py:193: FutureWarning: The default value of gamma will change from 'auto' to 'scale' in version 0.22 to account better for unscaled features. Set gamma explicitly to 'auto' or 'scale' to avoid this warning.\n",
      "  \"avoid this warning.\", FutureWarning)\n",
      "/Users/miketondu/anaconda3/lib/python3.6/site-packages/sklearn/svm/base.py:193: FutureWarning: The default value of gamma will change from 'auto' to 'scale' in version 0.22 to account better for unscaled features. Set gamma explicitly to 'auto' or 'scale' to avoid this warning.\n",
      "  \"avoid this warning.\", FutureWarning)\n",
      "/Users/miketondu/anaconda3/lib/python3.6/site-packages/sklearn/svm/base.py:193: FutureWarning: The default value of gamma will change from 'auto' to 'scale' in version 0.22 to account better for unscaled features. Set gamma explicitly to 'auto' or 'scale' to avoid this warning.\n",
      "  \"avoid this warning.\", FutureWarning)\n",
      "/Users/miketondu/anaconda3/lib/python3.6/site-packages/sklearn/svm/base.py:193: FutureWarning: The default value of gamma will change from 'auto' to 'scale' in version 0.22 to account better for unscaled features. Set gamma explicitly to 'auto' or 'scale' to avoid this warning.\n",
      "  \"avoid this warning.\", FutureWarning)\n"
     ]
    },
    {
     "name": "stdout",
     "output_type": "stream",
     "text": [
      "SVM: 0.557394 (0.014372)\n"
     ]
    },
    {
     "data": {
      "text/plain": [
       "Text(0.5,0.98,'Algorithm Comparison')"
      ]
     },
     "execution_count": 247,
     "metadata": {},
     "output_type": "execute_result"
    },
    {
     "data": {
      "text/plain": [
       "{'whiskers': [<matplotlib.lines.Line2D at 0x1a473e8208>,\n",
       "  <matplotlib.lines.Line2D at 0x1a473e86a0>,\n",
       "  <matplotlib.lines.Line2D at 0x1a47413128>,\n",
       "  <matplotlib.lines.Line2D at 0x1a47413588>,\n",
       "  <matplotlib.lines.Line2D at 0x1a3e2ef048>,\n",
       "  <matplotlib.lines.Line2D at 0x1a3e2ef4a8>,\n",
       "  <matplotlib.lines.Line2D at 0x1a3e2b7f28>,\n",
       "  <matplotlib.lines.Line2D at 0x1a3e2bd3c8>,\n",
       "  <matplotlib.lines.Line2D at 0x1a3e2c1e48>,\n",
       "  <matplotlib.lines.Line2D at 0x1a3e2ce2e8>,\n",
       "  <matplotlib.lines.Line2D at 0x1a3e2e1eb8>,\n",
       "  <matplotlib.lines.Line2D at 0x1a16969320>],\n",
       " 'caps': [<matplotlib.lines.Line2D at 0x1a473e8ac8>,\n",
       "  <matplotlib.lines.Line2D at 0x1a473e8f28>,\n",
       "  <matplotlib.lines.Line2D at 0x1a474139e8>,\n",
       "  <matplotlib.lines.Line2D at 0x1a47413e48>,\n",
       "  <matplotlib.lines.Line2D at 0x1a3e2ef908>,\n",
       "  <matplotlib.lines.Line2D at 0x1a3e2efd68>,\n",
       "  <matplotlib.lines.Line2D at 0x1a3e2bd828>,\n",
       "  <matplotlib.lines.Line2D at 0x1a3e2bdc88>,\n",
       "  <matplotlib.lines.Line2D at 0x1a3e2ce780>,\n",
       "  <matplotlib.lines.Line2D at 0x1a3e2cec18>,\n",
       "  <matplotlib.lines.Line2D at 0x1a169697b8>,\n",
       "  <matplotlib.lines.Line2D at 0x1a16969c50>],\n",
       " 'boxes': [<matplotlib.lines.Line2D at 0x1a473e8080>,\n",
       "  <matplotlib.lines.Line2D at 0x1a4740ac50>,\n",
       "  <matplotlib.lines.Line2D at 0x1a4741ab70>,\n",
       "  <matplotlib.lines.Line2D at 0x1a3e2b7a90>,\n",
       "  <matplotlib.lines.Line2D at 0x1a3e2c19b0>,\n",
       "  <matplotlib.lines.Line2D at 0x1a3e2e19e8>],\n",
       " 'medians': [<matplotlib.lines.Line2D at 0x1a4740a3c8>,\n",
       "  <matplotlib.lines.Line2D at 0x1a4741a2e8>,\n",
       "  <matplotlib.lines.Line2D at 0x1a3e2b7208>,\n",
       "  <matplotlib.lines.Line2D at 0x1a3e2c1128>,\n",
       "  <matplotlib.lines.Line2D at 0x1a3e2e10f0>,\n",
       "  <matplotlib.lines.Line2D at 0x1a16970128>],\n",
       " 'fliers': [<matplotlib.lines.Line2D at 0x1a4740a828>,\n",
       "  <matplotlib.lines.Line2D at 0x1a4741a748>,\n",
       "  <matplotlib.lines.Line2D at 0x1a3e2b7668>,\n",
       "  <matplotlib.lines.Line2D at 0x1a3e2c1588>,\n",
       "  <matplotlib.lines.Line2D at 0x1a3e2e1588>,\n",
       "  <matplotlib.lines.Line2D at 0x1a169705c0>],\n",
       " 'means': []}"
      ]
     },
     "execution_count": 247,
     "metadata": {},
     "output_type": "execute_result"
    },
    {
     "data": {
      "text/plain": [
       "[Text(0,0,'LR'),\n",
       " Text(0,0,'LDA'),\n",
       " Text(0,0,'KNN'),\n",
       " Text(0,0,'CART'),\n",
       " Text(0,0,'NB'),\n",
       " Text(0,0,'SVM')]"
      ]
     },
     "execution_count": 247,
     "metadata": {},
     "output_type": "execute_result"
    },
    {
     "data": {
      "image/png": "[encoded data removed]",
      "text/plain": [
       "<Figure size 432x288 with 1 Axes>"
      ]
     },
     "metadata": {},
     "output_type": "display_data"
    }
   ],
   "source": [
    "# Compare Algorithms\n",
    "# prepare configuration for cross validation test harness\n",
    "seed = 7\n",
    "\n",
    "# prepare models\n",
    "models = []\n",
    "models.append(('LR', LogisticRegression()))\n",
    "models.append(('LDA', LinearDiscriminantAnalysis()))\n",
    "models.append(('KNN', KNeighborsClassifier()))\n",
    "models.append(('CART', DecisionTreeClassifier()))\n",
    "#models.append(('RFR', RandomForestRegressor()))\n",
    "models.append(('NB', GaussianNB()))\n",
    "models.append(('SVM', SVC()))\n",
    "\n",
    "# evaluate each model in turn\n",
    "results = []\n",
    "names = []\n",
    "scoring = 'accuracy'\n",
    "\n",
    "for name, model in models:\n",
    "    kfold = model_selection.KFold(n_splits=5, random_state=seed)\n",
    "    cv_results = model_selection.cross_val_score(model, X, y, cv=kfold, scoring=scoring)\n",
    "    results.append(cv_results)\n",
    "    names.append(name)\n",
    "    msg = \"%s: %f (%f)\" % (name, cv_results.mean(), cv_results.std())\n",
    "    print(msg)\n",
    "\n",
    "# boxplot algorithm comparison\n",
    "fig = plt.figure()\n",
    "fig.suptitle('Algorithm Comparison')\n",
    "ax = fig.add_subplot(111)\n",
    "plt.boxplot(results)\n",
    "ax.set_xticklabels(names)\n",
    "plt.show()"
   ]
  },
  {
   "cell_type": "code",
   "execution_count": null,
   "metadata": {},
   "outputs": [],
   "source": []
  }
 ],
 "metadata": {
  "kernelspec": {
   "display_name": "Python 3",
   "language": "python",
   "name": "python3"
  },
  "language_info": {
   "codemirror_mode": {
    "name": "ipython",
    "version": 3
   },
   "file_extension": ".py",
   "mimetype": "text/x-python",
   "name": "python",
   "nbconvert_exporter": "python",
   "pygments_lexer": "ipython3",
   "version": "3.6.5"
  }
 },
 "nbformat": 4,
 "nbformat_minor": 2
}
