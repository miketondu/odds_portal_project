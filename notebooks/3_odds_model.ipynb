{
 "cells": [
  {
   "cell_type": "markdown",
   "metadata": {},
   "source": [
    "# Bolivian Odds Data\n",
    "## 3. Model Creation"
   ]
  },
  {
   "cell_type": "code",
   "execution_count": 99,
   "metadata": {},
   "outputs": [
    {
     "data": {
      "text/plain": [
       "Index(['match', 'match_href', 'bookmakers', 'payout', 'date', 'time',\n",
       "       'season_year', 'home_team', 'away_team', 'implied_home_odds',\n",
       "       'implied_draw_odds', 'implied_away_odds', 'home_goals', 'away_goals',\n",
       "       'first_half_home', 'first_half_away', 'second_half_home',\n",
       "       'second_half_away', 'home_goals_allowed', 'away_goals_allowed',\n",
       "       'total_goals', 'total_first_half', 'total_second_half',\n",
       "       'win_home_or_away', 'winner', 'home_win', 'upset', 'altitude',\n",
       "       'cumulative_home_goals', 'cumulative_away_goals',\n",
       "       'season_win_home_team', 'season_win_away_team', 'season_loss_home_team',\n",
       "       'season_loss_away_team', 'season_points_home_team',\n",
       "       'season_points_away_team', 'season_games_played_home_team',\n",
       "       'season_games_played_away_team', 'season_goals_home_team',\n",
       "       'season_goals_away_team', 'season_goals_allowed_home_team',\n",
       "       'season_goals_allowed_away_team'],\n",
       "      dtype='object')"
      ]
     },
     "execution_count": 99,
     "metadata": {},
     "output_type": "execute_result"
    }
   ],
   "source": [
    "# Importing necessary packages\n",
    "import pandas as pd\n",
    "import numpy as np\n",
    "import matplotlib.style as style\n",
    "import matplotlib.pyplot as plt\n",
    "import seaborn as sns\n",
    "import string\n",
    "import matplotlib.ticker as ticker\n",
    "import re\n",
    "import sklearn\n",
    "style.use('fivethirtyeight')\n",
    "\n",
    "# Importing SKLEARN packages\n",
    "from sklearn.model_selection import train_test_split\n",
    "from sklearn.model_selection import cross_val_score\n",
    "from sklearn.model_selection import StratifiedKFold\n",
    "from sklearn.ensemble import RandomForestRegressor\n",
    "from sklearn import model_selection\n",
    "from sklearn.linear_model import LogisticRegression\n",
    "from sklearn.tree import DecisionTreeClassifier\n",
    "from sklearn.neighbors import KNeighborsClassifier\n",
    "from sklearn.discriminant_analysis import LinearDiscriminantAnalysis\n",
    "from sklearn.naive_bayes import GaussianNB\n",
    "from sklearn.svm import SVC\n",
    "\n",
    "from IPython.core.interactiveshell import InteractiveShell\n",
    "InteractiveShell.ast_node_interactivity = \"all\"\n",
    "%matplotlib inline\n",
    "pd.set_option('display.max_columns', None)\n",
    "pd.set_option('display.max_rows', None)\n",
    "\n",
    "# load dataset\n",
    "odds = pd.read_csv('/Users/miketondu/Dropbox/Data Science/Sharpest Minds/odds_data/bolivian_football_odds_prepared.csv',\n",
    "                  parse_dates= ['date'])\n",
    "\n",
    "odds.columns"
   ]
  },
  {
   "cell_type": "code",
   "execution_count": 100,
   "metadata": {},
   "outputs": [
    {
     "data": {
      "text/plain": [
       "(20776, 21)"
      ]
     },
     "execution_count": 100,
     "metadata": {},
     "output_type": "execute_result"
    }
   ],
   "source": [
    "odds = odds.loc[:,[ 'implied_home_odds', 'implied_draw_odds', \n",
    "                    'implied_away_odds','season_year',\n",
    "                    'home_team','away_team', 'altitude',\n",
    "                    'home_win', 'altitude',\n",
    "                    'season_win_home_team', 'season_win_away_team', \n",
    "                    'season_loss_home_team', 'season_loss_away_team', \n",
    "                    'season_points_home_team','season_points_away_team', \n",
    "                    'season_games_played_home_team','season_games_played_away_team',\n",
    "                    'season_goals_home_team','season_goals_away_team',\n",
    "                    'season_goals_allowed_home_team', 'season_goals_allowed_away_team']]\n",
    "odds.shape\n",
    "\n"
   ]
  },
  {
   "cell_type": "markdown",
   "metadata": {},
   "source": [
    "### Base Model\n",
    "For the purpose of having a base model to compare all other iterations of our model against, we will create a one which will predict a home team win 100% of the time."
   ]
  },
  {
   "cell_type": "code",
   "execution_count": 102,
   "metadata": {},
   "outputs": [
    {
     "data": {
      "text/plain": [
       "DecisionTreeClassifier(class_weight=None, criterion='gini', max_depth=None,\n",
       "                       max_features=None, max_leaf_nodes=None,\n",
       "                       min_impurity_decrease=0.0, min_impurity_split=None,\n",
       "                       min_samples_leaf=1, min_samples_split=2,\n",
       "                       min_weight_fraction_leaf=0.0, presort=False,\n",
       "                       random_state=None, splitter='best')"
      ]
     },
     "execution_count": 102,
     "metadata": {},
     "output_type": "execute_result"
    },
    {
     "name": "stdout",
     "output_type": "stream",
     "text": [
      "Accuracy of base model predicting only home wins:  0.5542934154793993\n"
     ]
    }
   ],
   "source": [
    "# model_df\n",
    "model_df = odds.copy()\n",
    "#model_df['did_home_team_win'] = np.where(odds.win_home_or_away==1, 1, 0)\n",
    "\n",
    "# Creating X and Y\n",
    "X = np.ones(len(odds)).reshape(-1, 1)\n",
    "y = model_df['home_win']\n",
    "\n",
    "# Train/Test Split\n",
    "X_train, X_test, y_train, y_test = train_test_split(X, y, random_state=1)\n",
    "dt = DecisionTreeClassifier()\n",
    "dt.fit(X_train, y_train)\n",
    "\n",
    "# Score on test set\n",
    "print('Accuracy of base model predicting only home wins: ', dt.score(X_test, y_test))"
   ]
  },
  {
   "cell_type": "markdown",
   "metadata": {},
   "source": [
    "### Modelling\n"
   ]
  },
  {
   "cell_type": "code",
   "execution_count": 103,
   "metadata": {},
   "outputs": [],
   "source": [
    "# Preparing dataframe to feed it into the model\n",
    "model_df = odds.copy().dropna()\n",
    "X = model_df.loc[:,odds.columns!='home_win'] \n",
    "X = pd.get_dummies(X)\n",
    "y = model_df.loc[:,'home_win']\n"
   ]
  },
  {
   "cell_type": "code",
   "execution_count": 104,
   "metadata": {},
   "outputs": [
    {
     "data": {
      "text/plain": [
       "RandomForestRegressor(bootstrap=True, criterion='mse', max_depth=None,\n",
       "                      max_features='auto', max_leaf_nodes=None,\n",
       "                      min_impurity_decrease=0.0, min_impurity_split=None,\n",
       "                      min_samples_leaf=1, min_samples_split=2,\n",
       "                      min_weight_fraction_leaf=0.0, n_estimators=1000,\n",
       "                      n_jobs=None, oob_score=False, random_state=42, verbose=0,\n",
       "                      warm_start=False)"
      ]
     },
     "execution_count": 104,
     "metadata": {},
     "output_type": "execute_result"
    },
    {
     "data": {
      "text/plain": [
       "0.7527402184344806"
      ]
     },
     "execution_count": 104,
     "metadata": {},
     "output_type": "execute_result"
    }
   ],
   "source": [
    "# Random forest\n",
    "# Split the data into training and testing sets\n",
    "X_train, X_test, y_train, y_test = train_test_split(X, y, test_size=0.70, random_state=5)\n",
    "\n",
    "# Instantiate model with 1000 decision trees\n",
    "rf = RandomForestRegressor(n_estimators = 1000, random_state = 42)\n",
    "\n",
    "# Train the model on training data\n",
    "rf.fit(X_train, y_train)\n",
    "\n",
    "# Prediction on test set\n",
    "y_pred=rf.predict(X_test)\n",
    "rf.score(X_test,y_test)\n"
   ]
  },
  {
   "cell_type": "code",
   "execution_count": 105,
   "metadata": {
    "scrolled": true
   },
   "outputs": [
    {
     "name": "stderr",
     "output_type": "stream",
     "text": [
      "/Users/miketondu/anaconda3/lib/python3.6/site-packages/sklearn/linear_model/logistic.py:432: FutureWarning: Default solver will be changed to 'lbfgs' in 0.22. Specify a solver to silence this warning.\n",
      "  FutureWarning)\n"
     ]
    },
    {
     "data": {
      "text/plain": [
       "LogisticRegression(C=1.0, class_weight=None, dual=False, fit_intercept=True,\n",
       "                   intercept_scaling=1, l1_ratio=None, max_iter=100,\n",
       "                   multi_class='warn', n_jobs=None, penalty='l2',\n",
       "                   random_state=42, solver='warn', tol=0.0001, verbose=0,\n",
       "                   warm_start=False)"
      ]
     },
     "execution_count": 105,
     "metadata": {},
     "output_type": "execute_result"
    },
    {
     "data": {
      "text/plain": [
       "0.6687293729372937"
      ]
     },
     "execution_count": 105,
     "metadata": {},
     "output_type": "execute_result"
    }
   ],
   "source": [
    "# Logistic Regression\n",
    "# Split the data into training and testing sets\n",
    "X_train, X_test, y_train, y_test = train_test_split(X, y, test_size=0.70, random_state=5)\n",
    "\n",
    "# Instantiate model \n",
    "lr = LogisticRegression(random_state = 42)\n",
    "\n",
    "# Train the model on training data\n",
    "lr.fit(X_train, y_train)\n",
    "\n",
    "# Prediction on test set\n",
    "y_pred=rf.predict(X_test)\n",
    "lr.score(X_test,y_test)\n"
   ]
  },
  {
   "cell_type": "code",
   "execution_count": 96,
   "metadata": {
    "scrolled": false
   },
   "outputs": [
    {
     "name": "stderr",
     "output_type": "stream",
     "text": [
      "/Users/miketondu/anaconda3/lib/python3.6/site-packages/sklearn/linear_model/logistic.py:432: FutureWarning: Default solver will be changed to 'lbfgs' in 0.22. Specify a solver to silence this warning.\n",
      "  FutureWarning)\n",
      "/Users/miketondu/anaconda3/lib/python3.6/site-packages/sklearn/linear_model/logistic.py:432: FutureWarning: Default solver will be changed to 'lbfgs' in 0.22. Specify a solver to silence this warning.\n",
      "  FutureWarning)\n",
      "/Users/miketondu/anaconda3/lib/python3.6/site-packages/sklearn/linear_model/logistic.py:432: FutureWarning: Default solver will be changed to 'lbfgs' in 0.22. Specify a solver to silence this warning.\n",
      "  FutureWarning)\n",
      "/Users/miketondu/anaconda3/lib/python3.6/site-packages/sklearn/linear_model/logistic.py:432: FutureWarning: Default solver will be changed to 'lbfgs' in 0.22. Specify a solver to silence this warning.\n",
      "  FutureWarning)\n",
      "/Users/miketondu/anaconda3/lib/python3.6/site-packages/sklearn/linear_model/logistic.py:432: FutureWarning: Default solver will be changed to 'lbfgs' in 0.22. Specify a solver to silence this warning.\n",
      "  FutureWarning)\n"
     ]
    },
    {
     "name": "stdout",
     "output_type": "stream",
     "text": [
      "LR: 0.643002 (0.016907)\n"
     ]
    },
    {
     "name": "stderr",
     "output_type": "stream",
     "text": [
      "/Users/miketondu/anaconda3/lib/python3.6/site-packages/sklearn/discriminant_analysis.py:388: UserWarning: Variables are collinear.\n",
      "  warnings.warn(\"Variables are collinear.\")\n",
      "/Users/miketondu/anaconda3/lib/python3.6/site-packages/sklearn/discriminant_analysis.py:388: UserWarning: Variables are collinear.\n",
      "  warnings.warn(\"Variables are collinear.\")\n",
      "/Users/miketondu/anaconda3/lib/python3.6/site-packages/sklearn/discriminant_analysis.py:388: UserWarning: Variables are collinear.\n",
      "  warnings.warn(\"Variables are collinear.\")\n",
      "/Users/miketondu/anaconda3/lib/python3.6/site-packages/sklearn/discriminant_analysis.py:388: UserWarning: Variables are collinear.\n",
      "  warnings.warn(\"Variables are collinear.\")\n",
      "/Users/miketondu/anaconda3/lib/python3.6/site-packages/sklearn/discriminant_analysis.py:388: UserWarning: Variables are collinear.\n",
      "  warnings.warn(\"Variables are collinear.\")\n"
     ]
    },
    {
     "name": "stdout",
     "output_type": "stream",
     "text": [
      "LDA: 0.641125 (0.018436)\n",
      "KNN: 0.555161 (0.016621)\n",
      "CART: 0.570274 (0.008381)\n",
      "NB: 0.618502 (0.010032)\n"
     ]
    },
    {
     "name": "stderr",
     "output_type": "stream",
     "text": [
      "/Users/miketondu/anaconda3/lib/python3.6/site-packages/sklearn/svm/base.py:193: FutureWarning: The default value of gamma will change from 'auto' to 'scale' in version 0.22 to account better for unscaled features. Set gamma explicitly to 'auto' or 'scale' to avoid this warning.\n",
      "  \"avoid this warning.\", FutureWarning)\n",
      "/Users/miketondu/anaconda3/lib/python3.6/site-packages/sklearn/svm/base.py:193: FutureWarning: The default value of gamma will change from 'auto' to 'scale' in version 0.22 to account better for unscaled features. Set gamma explicitly to 'auto' or 'scale' to avoid this warning.\n",
      "  \"avoid this warning.\", FutureWarning)\n",
      "/Users/miketondu/anaconda3/lib/python3.6/site-packages/sklearn/svm/base.py:193: FutureWarning: The default value of gamma will change from 'auto' to 'scale' in version 0.22 to account better for unscaled features. Set gamma explicitly to 'auto' or 'scale' to avoid this warning.\n",
      "  \"avoid this warning.\", FutureWarning)\n",
      "/Users/miketondu/anaconda3/lib/python3.6/site-packages/sklearn/svm/base.py:193: FutureWarning: The default value of gamma will change from 'auto' to 'scale' in version 0.22 to account better for unscaled features. Set gamma explicitly to 'auto' or 'scale' to avoid this warning.\n",
      "  \"avoid this warning.\", FutureWarning)\n",
      "/Users/miketondu/anaconda3/lib/python3.6/site-packages/sklearn/svm/base.py:193: FutureWarning: The default value of gamma will change from 'auto' to 'scale' in version 0.22 to account better for unscaled features. Set gamma explicitly to 'auto' or 'scale' to avoid this warning.\n",
      "  \"avoid this warning.\", FutureWarning)\n"
     ]
    },
    {
     "name": "stdout",
     "output_type": "stream",
     "text": [
      "SVM: 0.562092 (0.026592)\n"
     ]
    },
    {
     "data": {
      "text/plain": [
       "Text(0.5,0.98,'Algorithm Comparison')"
      ]
     },
     "execution_count": 96,
     "metadata": {},
     "output_type": "execute_result"
    },
    {
     "data": {
      "text/plain": [
       "{'whiskers': [<matplotlib.lines.Line2D at 0x1a164ee470>,\n",
       "  <matplotlib.lines.Line2D at 0x1a164e10b8>,\n",
       "  <matplotlib.lines.Line2D at 0x1a164dbb38>,\n",
       "  <matplotlib.lines.Line2D at 0x1a164dbf98>,\n",
       "  <matplotlib.lines.Line2D at 0x1a2c34ea58>,\n",
       "  <matplotlib.lines.Line2D at 0x1a2c34eeb8>,\n",
       "  <matplotlib.lines.Line2D at 0x1a2c35e9b0>,\n",
       "  <matplotlib.lines.Line2D at 0x1a2c35ee48>,\n",
       "  <matplotlib.lines.Line2D at 0x1a2c370a58>,\n",
       "  <matplotlib.lines.Line2D at 0x1a2c370ef0>,\n",
       "  <matplotlib.lines.Line2D at 0x1a2c37eb00>,\n",
       "  <matplotlib.lines.Line2D at 0x1a2c37ef98>],\n",
       " 'caps': [<matplotlib.lines.Line2D at 0x1a164e1518>,\n",
       "  <matplotlib.lines.Line2D at 0x1a164e1978>,\n",
       "  <matplotlib.lines.Line2D at 0x1a2c347438>,\n",
       "  <matplotlib.lines.Line2D at 0x1a2c347898>,\n",
       "  <matplotlib.lines.Line2D at 0x1a2c356358>,\n",
       "  <matplotlib.lines.Line2D at 0x1a2c3567b8>,\n",
       "  <matplotlib.lines.Line2D at 0x1a2c365320>,\n",
       "  <matplotlib.lines.Line2D at 0x1a2c3657b8>,\n",
       "  <matplotlib.lines.Line2D at 0x1a2c3773c8>,\n",
       "  <matplotlib.lines.Line2D at 0x1a2c377860>,\n",
       "  <matplotlib.lines.Line2D at 0x1a2c3f5470>,\n",
       "  <matplotlib.lines.Line2D at 0x1a2c3f5908>],\n",
       " 'boxes': [<matplotlib.lines.Line2D at 0x1a164ee5f8>,\n",
       "  <matplotlib.lines.Line2D at 0x1a164db6a0>,\n",
       "  <matplotlib.lines.Line2D at 0x1a2c34e5c0>,\n",
       "  <matplotlib.lines.Line2D at 0x1a2c35e4e0>,\n",
       "  <matplotlib.lines.Line2D at 0x1a2c370588>,\n",
       "  <matplotlib.lines.Line2D at 0x1a2c37e630>],\n",
       " 'medians': [<matplotlib.lines.Line2D at 0x1a164e1dd8>,\n",
       "  <matplotlib.lines.Line2D at 0x1a2c347cf8>,\n",
       "  <matplotlib.lines.Line2D at 0x1a2c356c18>,\n",
       "  <matplotlib.lines.Line2D at 0x1a2c365c50>,\n",
       "  <matplotlib.lines.Line2D at 0x1a2c377cf8>,\n",
       "  <matplotlib.lines.Line2D at 0x1a2c3f5da0>],\n",
       " 'fliers': [<matplotlib.lines.Line2D at 0x1a164db278>,\n",
       "  <matplotlib.lines.Line2D at 0x1a2c34e198>,\n",
       "  <matplotlib.lines.Line2D at 0x1a2c35e0b8>,\n",
       "  <matplotlib.lines.Line2D at 0x1a2c370128>,\n",
       "  <matplotlib.lines.Line2D at 0x1a2c37e1d0>,\n",
       "  <matplotlib.lines.Line2D at 0x1a2c3fc278>],\n",
       " 'means': []}"
      ]
     },
     "execution_count": 96,
     "metadata": {},
     "output_type": "execute_result"
    },
    {
     "data": {
      "text/plain": [
       "[Text(0,0,'LR'),\n",
       " Text(0,0,'LDA'),\n",
       " Text(0,0,'KNN'),\n",
       " Text(0,0,'CART'),\n",
       " Text(0,0,'NB'),\n",
       " Text(0,0,'SVM')]"
      ]
     },
     "execution_count": 96,
     "metadata": {},
     "output_type": "execute_result"
    },
    {
     "data": {
      "image/png": "[encoded data removed]",
      "text/plain": [
       "<Figure size 432x288 with 1 Axes>"
      ]
     },
     "metadata": {},
     "output_type": "display_data"
    }
   ],
   "source": [
    "# Compare Algorithms\n",
    "# prepare configuration for cross validation test harness\n",
    "seed = 7\n",
    "\n",
    "# prepare models\n",
    "models = []\n",
    "models.append(('LR', LogisticRegression()))\n",
    "models.append(('LDA', LinearDiscriminantAnalysis()))\n",
    "models.append(('KNN', KNeighborsClassifier()))\n",
    "models.append(('CART', DecisionTreeClassifier()))\n",
    "#models.append(('RFR', RandomForestRegressor()))\n",
    "models.append(('NB', GaussianNB()))\n",
    "models.append(('SVM', SVC()))\n",
    "\n",
    "# evaluate each model in turn\n",
    "results = []\n",
    "names = []\n",
    "scoring = 'accuracy'\n",
    "\n",
    "for name, model in models:\n",
    "    kfold = model_selection.KFold(n_splits=5, random_state=seed)\n",
    "    cv_results = model_selection.cross_val_score(model, X, y, cv=kfold, scoring=scoring)\n",
    "    results.append(cv_results)\n",
    "    names.append(name)\n",
    "    msg = \"%s: %f (%f)\" % (name, cv_results.mean(), cv_results.std())\n",
    "    print(msg)\n",
    "\n",
    "# boxplot algorithm comparison\n",
    "fig = plt.figure()\n",
    "fig.suptitle('Algorithm Comparison')\n",
    "ax = fig.add_subplot(111)\n",
    "plt.boxplot(results)\n",
    "ax.set_xticklabels(names)\n",
    "plt.show()"
   ]
  },
  {
   "cell_type": "code",
   "execution_count": null,
   "metadata": {},
   "outputs": [],
   "source": []
  }
 ],
 "metadata": {
  "kernelspec": {
   "display_name": "Python 3",
   "language": "python",
   "name": "python3"
  },
  "language_info": {
   "codemirror_mode": {
    "name": "ipython",
    "version": 3
   },
   "file_extension": ".py",
   "mimetype": "text/x-python",
   "name": "python",
   "nbconvert_exporter": "python",
   "pygments_lexer": "ipython3",
   "version": "3.6.5"
  }
 },
 "nbformat": 4,
 "nbformat_minor": 2
}
