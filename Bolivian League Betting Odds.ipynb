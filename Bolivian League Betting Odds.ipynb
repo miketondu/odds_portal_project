{
 "cells": [
  {
   "cell_type": "markdown",
   "metadata": {},
   "source": [
    "# Bolivian League Betting Odds"
   ]
  },
  {
   "cell_type": "code",
   "execution_count": 30,
   "metadata": {},
   "outputs": [],
   "source": [
    "# Importing necessary packages\n",
    "import pandas as pd\n",
    "import numpy as np\n",
    "import matplotlib.style as style\n",
    "import matplotlib.pyplot as plt\n",
    "import seaborn as sns\n",
    "import string\n",
    "import matplotlib.ticker as ticker\n",
    "import re\n",
    "from collections import Counter\n",
    "style.use('fivethirtyeight')\n",
    "\n",
    "\n",
    "from IPython.core.interactiveshell import InteractiveShell\n",
    "InteractiveShell.ast_node_interactivity = \"all\"\n",
    "%matplotlib inline\n",
    "pd.set_option('display.max_columns', None)\n",
    "pd.set_option('display.max_rows', None)\n"
   ]
  },
  {
   "cell_type": "code",
   "execution_count": 31,
   "metadata": {},
   "outputs": [],
   "source": [
    "# Reading and appending datasets\n",
    "odds_16_08 = pd.read_csv('odds_portal_2016_2008.csv', parse_dates= ['date'] )\n",
    "odds_17 = pd.read_csv('odds_portal_2017.csv', parse_dates= ['date'])\n",
    "odds_18 = pd.read_csv('odds_portal_2018.csv', parse_dates= ['date'])\n",
    "odds_19 = pd.read_csv('odds_portal_2019.csv', parse_dates= ['date'])\n",
    "\n",
    "odds = odds_16_08.append([odds_17, odds_18, odds_19])\n",
    "\n"
   ]
  },
  {
   "cell_type": "code",
   "execution_count": 32,
   "metadata": {},
   "outputs": [
    {
     "name": "stdout",
     "output_type": "stream",
     "text": [
      "<class 'pandas.core.frame.DataFrame'>\n",
      "Int64Index: 24759 entries, 0 to 3740\n",
      "Data columns (total 12 columns):\n",
      "web-scraper-order        24759 non-null object\n",
      "web-scraper-start-url    24759 non-null object\n",
      "match                    24759 non-null object\n",
      "match-href               24759 non-null object\n",
      "Bookmakers               21802 non-null object\n",
      "Home Odds                21802 non-null float64\n",
      "Draw Odds                21802 non-null float64\n",
      "Away Odds                21802 non-null float64\n",
      "Payout                   21802 non-null object\n",
      "results                  24759 non-null object\n",
      "date                     24758 non-null datetime64[ns]\n",
      "time                     24758 non-null object\n",
      "dtypes: datetime64[ns](1), float64(3), object(8)\n",
      "memory usage: 2.5+ MB\n"
     ]
    }
   ],
   "source": [
    "odds.info()"
   ]
  },
  {
   "cell_type": "markdown",
   "metadata": {},
   "source": [
    "### Cleaning the dataframe\n"
   ]
  },
  {
   "cell_type": "code",
   "execution_count": 60,
   "metadata": {
    "scrolled": true
   },
   "outputs": [
    {
     "data": {
      "text/plain": [
       "Index(['web_scraper_order', 'web_scraper_start_url', 'match', 'match_href',\n",
       "       'bookmakers', 'home_odds', 'draw_odds', 'away_odds', 'payout',\n",
       "       'results', 'date', 'time', 'home_team', 'away_team', 'final_result',\n",
       "       'home_final_result', 'away_final_result', 'first_half_home',\n",
       "       'first_half_away', 'second_half_home', 'second_half_away',\n",
       "       'total_goals'],\n",
       "      dtype='object')"
      ]
     },
     "execution_count": 60,
     "metadata": {},
     "output_type": "execute_result"
    },
    {
     "name": "stderr",
     "output_type": "stream",
     "text": [
      "/Users/miketondu/anaconda3/lib/python3.6/site-packages/ipykernel_launcher.py:27: SettingWithCopyWarning: \n",
      "A value is trying to be set on a copy of a slice from a DataFrame\n",
      "\n",
      "See the caveats in the documentation: http://pandas.pydata.org/pandas-docs/stable/indexing.html#indexing-view-versus-copy\n",
      "/Users/miketondu/anaconda3/lib/python3.6/site-packages/ipykernel_launcher.py:28: SettingWithCopyWarning: \n",
      "A value is trying to be set on a copy of a slice from a DataFrame\n",
      "\n",
      "See the caveats in the documentation: http://pandas.pydata.org/pandas-docs/stable/indexing.html#indexing-view-versus-copy\n"
     ]
    }
   ],
   "source": [
    "# Making column names easier to work with\n",
    "odds.columns = [c.lower().replace(\"-\", \"_\") for c in [i.replace(\" \", \"-\") for i in odds.columns]]\n",
    "odds.columns\n",
    "\n",
    "# Creating new columns \n",
    "\n",
    "# Teams\n",
    "odds['home_team'] = [i[0].strip() for i in odds.match.str.split(\"-\")]\n",
    "odds['away_team'] = [i[1].strip() for i in odds.match.str.split(\"-\")]\n",
    "\n",
    "# Final Results\n",
    "odds['final_result'] = [c[0:3] for c in [i.replace('Final result ', '') for i in odds.results]]\n",
    "odds['home_final_result'] = [i[0] for i in odds.final_result.str.split(':')]\n",
    "odds['away_final_result'] = [i[-1] for i in odds.final_result.str.split(':')]\n",
    "\n",
    "# Half times results\n",
    "odds['halftime'] = odds.results.str.extract(r\"\\((.*?)\\)\", expand=False).str.split(',')\n",
    "\n",
    "odds.dropna(subset=['halftime'],inplace=True) # dropping rows that don't have half time info\n",
    "\n",
    "odds['first_half_home'] = [c[0] for c in [i[0] for i in odds.halftime]]\n",
    "odds['first_half_away'] = [c[2] for c in [i[0] for i in odds.halftime]]\n",
    "odds['second_half_home'] = [c[0] for c in [i[1].strip() for i in odds.halftime]]\n",
    "odds['second_half_away'] = [c[2] for c in [i[1].strip() for i in odds.halftime]]\n",
    "\n",
    "# Fixing unique cases in score\n",
    "odds.home_final_result[odds.home_final_result=='Wil'] = 7\n",
    "odds.away_final_result[odds.away_final_result=='Wil'] = 0\n",
    "\n",
    "# Dropping columns\n",
    "odds.drop(['halftime','web_scraper_start_url','web_scraper_order'], axis=1, inplace=True)\n"
   ]
  },
  {
   "cell_type": "markdown",
   "metadata": {},
   "source": [
    "### Feature Engineering"
   ]
  },
  {
   "cell_type": "code",
   "execution_count": 74,
   "metadata": {
    "scrolled": true
   },
   "outputs": [
    {
     "data": {
      "text/plain": [
       "580      Final result 2:0 penalties (0:0, 1:0, 5:4)\n",
       "706      Final result 2:1 penalties (1:1, 0:0, 6:5)\n",
       "1056     Final result 3:1 penalties (1:1, 1:0, 4:3)\n",
       "1617     Final result 1:2 penalties (1:1, 0:0, 3:4)\n",
       "1765     Final result 2:0 penalties (0:0, 1:0, 5:4)\n",
       "3710     Final result 1:2 penalties (1:1, 0:0, 3:4)\n",
       "3874     Final result 1:2 penalties (0:0, 1:1, 1:3)\n",
       "4634     Final result 1:2 penalties (0:0, 1:1, 1:3)\n",
       "4804     Final result 2:0 penalties (0:0, 1:0, 5:4)\n",
       "4880     Final result 3:2 penalties (1:1, 1:1, 4:2)\n",
       "4969     Final result 1:2 penalties (1:1, 0:0, 3:4)\n",
       "5719     Final result 3:1 penalties (1:1, 1:0, 4:3)\n",
       "7204     Final result 1:2 penalties (1:1, 0:0, 3:4)\n",
       "7813     Final result 2:0 penalties (0:0, 1:0, 5:4)\n",
       "8133     Final result 3:2 penalties (1:1, 1:1, 4:2)\n",
       "8213     Final result 3:1 penalties (1:1, 1:0, 4:3)\n",
       "8432     Final result 3:1 penalties (1:1, 1:0, 4:3)\n",
       "9003     Final result 1:2 penalties (0:0, 1:1, 1:3)\n",
       "9008     Final result 3:2 penalties (1:1, 1:1, 4:2)\n",
       "9888     Final result 3:2 penalties (1:1, 1:1, 4:2)\n",
       "10454    Final result 1:2 penalties (0:0, 1:1, 1:3)\n",
       "10498    Final result 1:2 penalties (1:1, 0:0, 3:4)\n",
       "10699    Final result 2:0 penalties (0:0, 1:0, 5:4)\n",
       "10743    Final result 2:1 penalties (1:1, 0:0, 6:5)\n",
       "10906    Final result 2:1 penalties (1:1, 0:0, 6:5)\n",
       "11359    Final result 3:1 penalties (1:1, 1:0, 4:3)\n",
       "2380     Final result 3:2 penalties (1:1, 1:1, 3:2)\n",
       "2381     Final result 3:2 penalties (1:1, 1:1, 3:2)\n",
       "2382     Final result 3:2 penalties (1:1, 1:1, 3:2)\n",
       "2383     Final result 3:2 penalties (1:1, 1:1, 3:2)\n",
       "2384     Final result 3:2 penalties (1:1, 1:1, 3:2)\n",
       "2385     Final result 3:2 penalties (1:1, 1:1, 3:2)\n",
       "2386     Final result 3:2 penalties (1:1, 1:1, 3:2)\n",
       "2387     Final result 3:2 penalties (1:1, 1:1, 3:2)\n",
       "2388     Final result 3:2 penalties (1:1, 1:1, 3:2)\n",
       "2389     Final result 3:2 penalties (1:1, 1:1, 3:2)\n",
       "2390     Final result 3:2 penalties (1:1, 1:1, 3:2)\n",
       "2391     Final result 3:2 penalties (1:1, 1:1, 3:2)\n",
       "2392     Final result 3:2 penalties (1:1, 1:1, 3:2)\n",
       "2495     Final result 4:0 penalties (1:0, 2:0, 4:3)\n",
       "2496     Final result 0:1 penalties (0:0, 0:0, 4:5)\n",
       "2497     Final result 0:1 penalties (0:0, 0:0, 4:5)\n",
       "2498     Final result 4:0 penalties (1:0, 2:0, 4:3)\n",
       "2499     Final result 4:0 penalties (1:0, 2:0, 4:3)\n",
       "2500     Final result 4:0 penalties (1:0, 2:0, 4:3)\n",
       "2501     Final result 0:1 penalties (0:0, 0:0, 4:5)\n",
       "2502     Final result 4:0 penalties (1:0, 2:0, 4:3)\n",
       "2503     Final result 0:1 penalties (0:0, 0:0, 4:5)\n",
       "2504     Final result 0:1 penalties (0:0, 0:0, 4:5)\n",
       "2505     Final result 4:0 penalties (1:0, 2:0, 4:3)\n",
       "2506     Final result 4:0 penalties (1:0, 2:0, 4:3)\n",
       "2507     Final result 0:1 penalties (0:0, 0:0, 4:5)\n",
       "2508     Final result 4:0 penalties (1:0, 2:0, 4:3)\n",
       "2509     Final result 0:1 penalties (0:0, 0:0, 4:5)\n",
       "2510     Final result 4:0 penalties (1:0, 2:0, 4:3)\n",
       "2511     Final result 0:1 penalties (0:0, 0:0, 4:5)\n",
       "2512     Final result 0:1 penalties (0:0, 0:0, 4:5)\n",
       "2513     Final result 0:1 penalties (0:0, 0:0, 4:5)\n",
       "2514     Final result 4:0 penalties (1:0, 2:0, 4:3)\n",
       "2515     Final result 4:0 penalties (1:0, 2:0, 4:3)\n",
       "2516     Final result 0:1 penalties (0:0, 0:0, 4:5)\n",
       "2517     Final result 0:1 penalties (0:0, 0:0, 4:5)\n",
       "2518     Final result 4:0 penalties (1:0, 2:0, 4:3)\n",
       "2519     Final result 4:0 penalties (1:0, 2:0, 4:3)\n",
       "2520     Final result 0:1 penalties (0:0, 0:0, 4:5)\n",
       "2636     Final result 9:0 penalties (4:0, 4:0, 4:2)\n",
       "2637     Final result 9:0 penalties (4:0, 4:0, 4:2)\n",
       "2638     Final result 9:0 penalties (4:0, 4:0, 4:2)\n",
       "2639     Final result 9:0 penalties (4:0, 4:0, 4:2)\n",
       "2640     Final result 9:0 penalties (4:0, 4:0, 4:2)\n",
       "2641     Final result 9:0 penalties (4:0, 4:0, 4:2)\n",
       "2645     Final result 9:0 penalties (4:0, 4:0, 4:2)\n",
       "2647     Final result 9:0 penalties (4:0, 4:0, 4:2)\n",
       "2649     Final result 9:0 penalties (4:0, 4:0, 4:2)\n",
       "2651     Final result 9:0 penalties (4:0, 4:0, 4:2)\n",
       "2656     Final result 9:0 penalties (4:0, 4:0, 4:2)\n",
       "2658     Final result 9:0 penalties (4:0, 4:0, 4:2)\n",
       "2659     Final result 9:0 penalties (4:0, 4:0, 4:2)\n",
       "Name: results, dtype: object"
      ]
     },
     "execution_count": 74,
     "metadata": {},
     "output_type": "execute_result"
    }
   ],
   "source": [
    "# Creating new features\n",
    "# Transforming values into numeric type\n",
    "for col in odds.columns[odds.columns!='date']:\n",
    "    odds[col] = pd.to_numeric(odds[col], errors='ignore')\n",
    "\n",
    "# Total number of goals\n",
    "odds['total_goals'] = odds.home_final_result + odds.away_final_result\n",
    "\n",
    "# First half goals\n",
    "odds['total_first_half'] = odds.first_half_home + odds.first_half_away\n",
    "\n",
    "# Second half goals\n",
    "odds['total_second_half'] = odds.second_half_home + odds.second_half_away\n",
    "\n",
    "# Penalties\n",
    "odds.results[odds.results.str.contains('penalties')]\n"
   ]
  },
  {
   "cell_type": "code",
   "execution_count": 75,
   "metadata": {},
   "outputs": [
    {
     "data": {
      "text/html": [
       "<div>\n",
       "<style scoped>\n",
       "    .dataframe tbody tr th:only-of-type {\n",
       "        vertical-align: middle;\n",
       "    }\n",
       "\n",
       "    .dataframe tbody tr th {\n",
       "        vertical-align: top;\n",
       "    }\n",
       "\n",
       "    .dataframe thead th {\n",
       "        text-align: right;\n",
       "    }\n",
       "</style>\n",
       "<table border=\"1\" class=\"dataframe\">\n",
       "  <thead>\n",
       "    <tr style=\"text-align: right;\">\n",
       "      <th></th>\n",
       "      <th>match</th>\n",
       "      <th>match_href</th>\n",
       "      <th>bookmakers</th>\n",
       "      <th>home_odds</th>\n",
       "      <th>draw_odds</th>\n",
       "      <th>away_odds</th>\n",
       "      <th>payout</th>\n",
       "      <th>results</th>\n",
       "      <th>date</th>\n",
       "      <th>time</th>\n",
       "      <th>home_team</th>\n",
       "      <th>away_team</th>\n",
       "      <th>final_result</th>\n",
       "      <th>home_final_result</th>\n",
       "      <th>away_final_result</th>\n",
       "      <th>first_half_home</th>\n",
       "      <th>first_half_away</th>\n",
       "      <th>second_half_home</th>\n",
       "      <th>second_half_away</th>\n",
       "      <th>total_goals</th>\n",
       "      <th>total_first_half</th>\n",
       "      <th>total_second_half</th>\n",
       "    </tr>\n",
       "  </thead>\n",
       "  <tbody>\n",
       "    <tr>\n",
       "      <th>0</th>\n",
       "      <td>Blooming - San Jose</td>\n",
       "      <td>https://www.oddsportal.com/soccer/bolivia/liga...</td>\n",
       "      <td>Unibet</td>\n",
       "      <td>2.29</td>\n",
       "      <td>3.15</td>\n",
       "      <td>2.80</td>\n",
       "      <td>90.0%</td>\n",
       "      <td>Final result 0:0 (0:0, 0:0)</td>\n",
       "      <td>2013-08-04</td>\n",
       "      <td>00:00</td>\n",
       "      <td>Blooming</td>\n",
       "      <td>San Jose</td>\n",
       "      <td>0:0</td>\n",
       "      <td>0</td>\n",
       "      <td>0</td>\n",
       "      <td>0</td>\n",
       "      <td>0</td>\n",
       "      <td>0</td>\n",
       "      <td>0</td>\n",
       "      <td>0</td>\n",
       "      <td>0</td>\n",
       "      <td>0</td>\n",
       "    </tr>\n",
       "    <tr>\n",
       "      <th>1</th>\n",
       "      <td>The Strongest - Ciclon</td>\n",
       "      <td>https://www.oddsportal.com/soccer/bolivia/liga...</td>\n",
       "      <td>Unibet</td>\n",
       "      <td>1.25</td>\n",
       "      <td>5.25</td>\n",
       "      <td>9.00</td>\n",
       "      <td>90.8%</td>\n",
       "      <td>Final result 4:2 (2:0, 2:2)</td>\n",
       "      <td>2016-04-17</td>\n",
       "      <td>19:00</td>\n",
       "      <td>The Strongest</td>\n",
       "      <td>Ciclon</td>\n",
       "      <td>4:2</td>\n",
       "      <td>4</td>\n",
       "      <td>2</td>\n",
       "      <td>2</td>\n",
       "      <td>0</td>\n",
       "      <td>2</td>\n",
       "      <td>2</td>\n",
       "      <td>6</td>\n",
       "      <td>2</td>\n",
       "      <td>4</td>\n",
       "    </tr>\n",
       "    <tr>\n",
       "      <th>2</th>\n",
       "      <td>Blooming - Real Potosi</td>\n",
       "      <td>https://www.oddsportal.com/soccer/bolivia/liga...</td>\n",
       "      <td>bwin</td>\n",
       "      <td>1.70</td>\n",
       "      <td>3.40</td>\n",
       "      <td>4.33</td>\n",
       "      <td>89.8%</td>\n",
       "      <td>Final result 2:0 (1:0, 1:0)</td>\n",
       "      <td>2014-04-12</td>\n",
       "      <td>21:00</td>\n",
       "      <td>Blooming</td>\n",
       "      <td>Real Potosi</td>\n",
       "      <td>2:0</td>\n",
       "      <td>2</td>\n",
       "      <td>0</td>\n",
       "      <td>1</td>\n",
       "      <td>0</td>\n",
       "      <td>1</td>\n",
       "      <td>0</td>\n",
       "      <td>2</td>\n",
       "      <td>1</td>\n",
       "      <td>1</td>\n",
       "    </tr>\n",
       "    <tr>\n",
       "      <th>4</th>\n",
       "      <td>The Strongest - Guabira</td>\n",
       "      <td>https://www.oddsportal.com/soccer/bolivia/liga...</td>\n",
       "      <td>Unibet</td>\n",
       "      <td>1.55</td>\n",
       "      <td>3.50</td>\n",
       "      <td>5.50</td>\n",
       "      <td>89.9%</td>\n",
       "      <td>Final result 2:1 (1:1, 1:0)</td>\n",
       "      <td>2010-03-31</td>\n",
       "      <td>22:00</td>\n",
       "      <td>The Strongest</td>\n",
       "      <td>Guabira</td>\n",
       "      <td>2:1</td>\n",
       "      <td>2</td>\n",
       "      <td>1</td>\n",
       "      <td>1</td>\n",
       "      <td>1</td>\n",
       "      <td>1</td>\n",
       "      <td>0</td>\n",
       "      <td>3</td>\n",
       "      <td>2</td>\n",
       "      <td>1</td>\n",
       "    </tr>\n",
       "    <tr>\n",
       "      <th>5</th>\n",
       "      <td>Blooming - Oriente Petrolero</td>\n",
       "      <td>https://www.oddsportal.com/soccer/bolivia/liga...</td>\n",
       "      <td>bwin</td>\n",
       "      <td>2.40</td>\n",
       "      <td>3.10</td>\n",
       "      <td>2.70</td>\n",
       "      <td>90.1%</td>\n",
       "      <td>Final result 2:2 (2:2, 0:0)</td>\n",
       "      <td>2012-04-29</td>\n",
       "      <td>22:30</td>\n",
       "      <td>Blooming</td>\n",
       "      <td>Oriente Petrolero</td>\n",
       "      <td>2:2</td>\n",
       "      <td>2</td>\n",
       "      <td>2</td>\n",
       "      <td>2</td>\n",
       "      <td>2</td>\n",
       "      <td>0</td>\n",
       "      <td>0</td>\n",
       "      <td>4</td>\n",
       "      <td>4</td>\n",
       "      <td>0</td>\n",
       "    </tr>\n",
       "  </tbody>\n",
       "</table>\n",
       "</div>"
      ],
      "text/plain": [
       "                          match  \\\n",
       "0           Blooming - San Jose   \n",
       "1        The Strongest - Ciclon   \n",
       "2        Blooming - Real Potosi   \n",
       "4       The Strongest - Guabira   \n",
       "5  Blooming - Oriente Petrolero   \n",
       "\n",
       "                                          match_href bookmakers  home_odds  \\\n",
       "0  https://www.oddsportal.com/soccer/bolivia/liga...     Unibet       2.29   \n",
       "1  https://www.oddsportal.com/soccer/bolivia/liga...     Unibet       1.25   \n",
       "2  https://www.oddsportal.com/soccer/bolivia/liga...       bwin       1.70   \n",
       "4  https://www.oddsportal.com/soccer/bolivia/liga...     Unibet       1.55   \n",
       "5  https://www.oddsportal.com/soccer/bolivia/liga...       bwin       2.40   \n",
       "\n",
       "   draw_odds  away_odds payout                      results       date   time  \\\n",
       "0       3.15       2.80  90.0%  Final result 0:0 (0:0, 0:0) 2013-08-04  00:00   \n",
       "1       5.25       9.00  90.8%  Final result 4:2 (2:0, 2:2) 2016-04-17  19:00   \n",
       "2       3.40       4.33  89.8%  Final result 2:0 (1:0, 1:0) 2014-04-12  21:00   \n",
       "4       3.50       5.50  89.9%  Final result 2:1 (1:1, 1:0) 2010-03-31  22:00   \n",
       "5       3.10       2.70  90.1%  Final result 2:2 (2:2, 0:0) 2012-04-29  22:30   \n",
       "\n",
       "       home_team          away_team final_result  home_final_result  \\\n",
       "0       Blooming           San Jose          0:0                  0   \n",
       "1  The Strongest             Ciclon          4:2                  4   \n",
       "2       Blooming        Real Potosi          2:0                  2   \n",
       "4  The Strongest            Guabira          2:1                  2   \n",
       "5       Blooming  Oriente Petrolero          2:2                  2   \n",
       "\n",
       "   away_final_result  first_half_home  first_half_away  second_half_home  \\\n",
       "0                  0                0                0                 0   \n",
       "1                  2                2                0                 2   \n",
       "2                  0                1                0                 1   \n",
       "4                  1                1                1                 1   \n",
       "5                  2                2                2                 0   \n",
       "\n",
       "   second_half_away  total_goals  total_first_half  total_second_half  \n",
       "0                 0            0                 0                  0  \n",
       "1                 2            6                 2                  4  \n",
       "2                 0            2                 1                  1  \n",
       "4                 0            3                 2                  1  \n",
       "5                 0            4                 4                  0  "
      ]
     },
     "execution_count": 75,
     "metadata": {},
     "output_type": "execute_result"
    }
   ],
   "source": [
    "odds.head()\n"
   ]
  },
  {
   "cell_type": "code",
   "execution_count": 76,
   "metadata": {},
   "outputs": [
    {
     "name": "stdout",
     "output_type": "stream",
     "text": [
      "<class 'pandas.core.frame.DataFrame'>\n",
      "Int64Index: 24221 entries, 0 to 3740\n",
      "Data columns (total 22 columns):\n",
      "match                24221 non-null object\n",
      "match_href           24221 non-null object\n",
      "bookmakers           21389 non-null object\n",
      "home_odds            21389 non-null float64\n",
      "draw_odds            21389 non-null float64\n",
      "away_odds            21389 non-null float64\n",
      "payout               21389 non-null object\n",
      "results              24221 non-null object\n",
      "date                 24220 non-null datetime64[ns]\n",
      "time                 24220 non-null object\n",
      "home_team            24221 non-null object\n",
      "away_team            24221 non-null object\n",
      "final_result         24221 non-null object\n",
      "home_final_result    24221 non-null int64\n",
      "away_final_result    24221 non-null int64\n",
      "first_half_home      24221 non-null int64\n",
      "first_half_away      24221 non-null int64\n",
      "second_half_home     24221 non-null int64\n",
      "second_half_away     24221 non-null int64\n",
      "total_goals          24221 non-null int64\n",
      "total_first_half     24221 non-null int64\n",
      "total_second_half    24221 non-null int64\n",
      "dtypes: datetime64[ns](1), float64(3), int64(9), object(9)\n",
      "memory usage: 4.9+ MB\n"
     ]
    }
   ],
   "source": [
    "odds.info()"
   ]
  },
  {
   "cell_type": "code",
   "execution_count": 17,
   "metadata": {},
   "outputs": [
    {
     "data": {
      "text/plain": [
       "1    6975\n",
       "2    6386\n",
       "3    3778\n",
       "0    3702\n",
       "4    1924\n",
       "5     817\n",
       "6     441\n",
       "7     127\n",
       "9      31\n",
       "8      29\n",
       "7      11\n",
       "Name: home_final_result, dtype: int64"
      ]
     },
     "execution_count": 17,
     "metadata": {},
     "output_type": "execute_result"
    }
   ],
   "source": [
    "odds.home_final_result.value_counts()"
   ]
  },
  {
   "cell_type": "markdown",
   "metadata": {},
   "source": [
    "### Plotting Trends"
   ]
  },
  {
   "cell_type": "code",
   "execution_count": 58,
   "metadata": {
    "scrolled": false
   },
   "outputs": [
    {
     "name": "stderr",
     "output_type": "stream",
     "text": [
      "/Users/miketondu/anaconda3/lib/python3.6/site-packages/scipy/stats/stats.py:1713: FutureWarning: Using a non-tuple sequence for multidimensional indexing is deprecated; use `arr[tuple(seq)]` instead of `arr[seq]`. In the future this will be interpreted as an array index, `arr[np.array(seq)]`, which will result either in an error or a different result.\n",
      "  return np.add.reduce(sorted[indexer] * weights, axis=axis) / sumval\n"
     ]
    },
    {
     "data": {
      "text/plain": [
       "<matplotlib.axes._subplots.AxesSubplot at 0x1a202ce550>"
      ]
     },
     "execution_count": 58,
     "metadata": {},
     "output_type": "execute_result"
    },
    {
     "data": {
      "text/plain": [
       "(array([736726., 736785., 736846., 736907., 736968., 737029., 737091.,\n",
       "        737150., 737211., 737272., 737333.]),\n",
       " <a list of 11 Text xticklabel objects>)"
      ]
     },
     "execution_count": 58,
     "metadata": {},
     "output_type": "execute_result"
    },
    {
     "data": {
      "image/png": "[encoded data removed]",
      "text/plain": [
       "<Figure size 640x320 with 1 Axes>"
      ]
     },
     "metadata": {},
     "output_type": "display_data"
    }
   ],
   "source": [
    "fig, axes = plt.subplots( figsize=(8,4), dpi=80)\n",
    "\n",
    "sns.lineplot(data= odds, x=odds.date[odds['date']>'2018'], y=odds.total_goals[odds['date']>'2018'])\n",
    "plt.xticks(rotation=70)"
   ]
  }
 ],
 "metadata": {
  "kernelspec": {
   "display_name": "Python 3",
   "language": "python",
   "name": "python3"
  },
  "language_info": {
   "codemirror_mode": {
    "name": "ipython",
    "version": 3
   },
   "file_extension": ".py",
   "mimetype": "text/x-python",
   "name": "python",
   "nbconvert_exporter": "python",
   "pygments_lexer": "ipython3",
   "version": "3.6.5"
  }
 },
 "nbformat": 4,
 "nbformat_minor": 2
}
